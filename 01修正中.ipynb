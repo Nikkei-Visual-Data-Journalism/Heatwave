{
 "cells": [
  {
   "cell_type": "code",
   "execution_count": 26,
   "id": "522ae849",
   "metadata": {},
   "outputs": [],
   "source": [
    "#気象庁\n",
    "#過去7日間の最高気温のデータを取得するコード\n",
    "#https://www.data.jma.go.jp/stats/data/mdrr/docs/csv_dl_readme.html\n",
    "#ウェブ上のデータは毎日5:00ごろ更新＋修正は13:00、19:00、翌日1:00ごろの更新で反映\n",
    "#定期実行\n",
    "\n",
    "import pandas as pd\n",
    "import re\n",
    "\n",
    "#データを取得してファイル名に日付を入れて保存する\n",
    "def get_previous_data(d):\n",
    "    url = f'https://www.data.jma.go.jp/obd/stats/data/mdrr/tem_rct/alltable/mxtemsadext0{d}.csv'\n",
    "    data = pd.read_csv(url, encoding='Shift-JIS')\n",
    "\n",
    "    #日付\n",
    "    yyyymmdd = f\"{data['観測時刻(年)'][0]}{data.loc[0,['観測時刻(月)','観測時刻(日)']].apply(lambda x: str(x).zfill(2)).sum()}\"\n",
    "    #ファイル名\n",
    "    \n",
    "    filename = f\"./data-maxtemp/daily-data/jma-maxtemp-{yyyymmdd}.csv\"\n",
    "    #dataにも記載\n",
    "    data['date'] = pd.to_datetime(yyyymmdd, format='%Y%m%d')\n",
    "    #csvで出力\n",
    "    data.to_csv(filename, index=False)\n",
    "    return data\n",
    "\n",
    "#実行\n",
    "#集計（真夏・猛暑日を数える）\n",
    "data_agg = pd.DataFrame()\n",
    "\n",
    "###データ取得\n",
    "for d in range(1, 8): \n",
    "    data = get_previous_data(d)\n",
    "    ##ととのえる\n",
    "    ##最高気温のデータのカラムを抽出\n",
    "    ##（1日前＝昨日の~、2日前=一昨日の~、3日以上前=xx日の最高気温(℃)\n",
    "    rename_dic = {col:'maxtemp' for col in data.columns if '日の最高気温(℃)' in col}\n",
    "    data = data.rename(columns=rename_dic)\n",
    "    ##統合\n",
    "    data_agg = pd.concat([data_agg, data])\n",
    "\n",
    "###計算\n",
    "data_agg['over30'] = data_agg.maxtemp >= 30\n",
    "data_agg['over35'] = data_agg.maxtemp >= 35\n",
    "data_agg['over40'] = data_agg.maxtemp >= 40\n",
    "data_agg['total'] = 1\n",
    "data_agg['null_values'] = data_agg.maxtemp.isna()\n",
    "\n",
    "cols = ['over30','over35','over40','total','null_values']\n",
    "#集計df\n",
    "heat_points_7days = data_agg.groupby(['date'])[cols].sum().reset_index()\n",
    "\n",
    "#過去分と統合\n",
    "filename = \"./data-maxtemp/timeseries-data/jma-maxtemp-heatpoints-ts.csv\"\n",
    "##過去分を取得\n",
    "heat_points = pd.read_csv(filename)\n",
    "heat_points = pd.concat([heat_points,heat_points_7days])\n",
    "heat_points = heat_points.reindex(['date']+cols, axis=1)\n",
    "##重複削除（新しく入ったほうを残す）\n",
    "heat_points.date = pd.to_datetime(heat_points.date)\n",
    "heat_points = heat_points.loc[~heat_points.duplicated(subset=['date'], keep='last')].reset_index(drop=True)\n",
    "heat_points = heat_points.dropna(subset='date').sort_values(by='date')\n",
    "\n",
    "##出力\n",
    "heat_points.to_csv(filename, index=False)"
   ]
  },
  {
   "cell_type": "markdown",
   "id": "2fed0179",
   "metadata": {},
   "source": [
    "修正で追加するコード"
   ]
  },
  {
   "cell_type": "code",
   "execution_count": 22,
   "id": "9cd048b2",
   "metadata": {},
   "outputs": [],
   "source": [
    "#観測地点の一覧\n",
    "url = 'https://raw.githubusercontent.com/Nikkei-Visual-Data-Journalism/Heatwave/main/data-maxtemp/meta/points_list.csv'\n",
    "points = pd.read_csv(url)\n",
    "#dic{観測所番号:県名}\n",
    "pref_dic = points.set_index('観測所番号').pref.to_dict()\n",
    "#県庁所在地の観測所番号リスト\n",
    "capitol = points[points.capitol==1]['観測所番号'].to_list()\n",
    "#data_aggに県名、県庁所在地フラグを反映\n",
    "data_agg['pref'] = data_agg['観測所番号'].map(pref_dic)\n",
    "data_agg['capitol'] = None\n",
    "data_agg.loc[data_agg['観測所番号'].isin(capitol),'capitol'] = 1\n",
    "#日付、年\n",
    "data_agg.date = pd.to_datetime(data_agg.date)\n",
    "data_agg['year'] = data_agg.date.dt.year"
   ]
  },
  {
   "cell_type": "code",
   "execution_count": 25,
   "id": "c1bbaa7c",
   "metadata": {},
   "outputs": [
    {
     "data": {
      "text/html": [
       "<div>\n",
       "<style scoped>\n",
       "    .dataframe tbody tr th:only-of-type {\n",
       "        vertical-align: middle;\n",
       "    }\n",
       "\n",
       "    .dataframe tbody tr th {\n",
       "        vertical-align: top;\n",
       "    }\n",
       "\n",
       "    .dataframe thead th {\n",
       "        text-align: right;\n",
       "    }\n",
       "</style>\n",
       "<table border=\"1\" class=\"dataframe\">\n",
       "  <thead>\n",
       "    <tr style=\"text-align: right;\">\n",
       "      <th></th>\n",
       "    </tr>\n",
       "  </thead>\n",
       "  <tbody>\n",
       "  </tbody>\n",
       "</table>\n",
       "</div>"
      ],
      "text/plain": [
       "Empty DataFrame\n",
       "Columns: []\n",
       "Index: []"
      ]
     },
     "execution_count": 25,
     "metadata": {},
     "output_type": "execute_result"
    }
   ],
   "source": [
    "data_agg"
   ]
  },
  {
   "cell_type": "code",
   "execution_count": null,
   "id": "035e287c",
   "metadata": {},
   "outputs": [],
   "source": [
    "#県庁所在地の最高温度をつけたす\n",
    "#capitol = data_agg[data_agg.capitol==1].set_index(['date','year','pref']).maxtemp.rename('maxtemp_capitol')\n",
    "#df_count = pd.concat([df_count, capitol],axis=1)"
   ]
  }
 ],
 "metadata": {
  "kernelspec": {
   "display_name": "python3.11.3",
   "language": "python",
   "name": "python3.11.3"
  },
  "language_info": {
   "codemirror_mode": {
    "name": "ipython",
    "version": 3
   },
   "file_extension": ".py",
   "mimetype": "text/x-python",
   "name": "python",
   "nbconvert_exporter": "python",
   "pygments_lexer": "ipython3",
   "version": "3.11.3"
  },
  "toc": {
   "base_numbering": 1,
   "nav_menu": {},
   "number_sections": true,
   "sideBar": true,
   "skip_h1_title": false,
   "title_cell": "Table of Contents",
   "title_sidebar": "Contents",
   "toc_cell": false,
   "toc_position": {},
   "toc_section_display": true,
   "toc_window_display": true
  }
 },
 "nbformat": 4,
 "nbformat_minor": 5
}

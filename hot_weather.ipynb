{
  "nbformat": 4,
  "nbformat_minor": 0,
  "metadata": {
    "colab": {
      "provenance": []
    },
    "kernelspec": {
      "name": "python3",
      "display_name": "Python 3"
    },
    "language_info": {
      "name": "python"
    }
  },
  "cells": [
    {
      "cell_type": "code",
      "execution_count": 96,
      "metadata": {
        "colab": {
          "base_uri": "https://localhost:8080/"
        },
        "id": "Lx0A53n5LQW8",
        "outputId": "8b051bd9-c8b1-4d07-c8c2-4f2ce3e9f562"
      },
      "outputs": [
        {
          "output_type": "stream",
          "name": "stdout",
          "text": [
            "openjdk version \"11.0.19\" 2023-04-18\n",
            "OpenJDK Runtime Environment (build 11.0.19+7-post-Ubuntu-0ubuntu122.04.1)\n",
            "OpenJDK 64-Bit Server VM (build 11.0.19+7-post-Ubuntu-0ubuntu122.04.1, mixed mode, sharing)\n"
          ]
        }
      ],
      "source": [
        "!java -version"
      ]
    },
    {
      "cell_type": "code",
      "source": [
        "!pip install tabula-py\n",
        "!pip install requests"
      ],
      "metadata": {
        "colab": {
          "base_uri": "https://localhost:8080/"
        },
        "id": "tNzhWtKrLTYI",
        "outputId": "6a7b91d5-3264-485f-bf89-9a74960016d3"
      },
      "execution_count": 97,
      "outputs": [
        {
          "output_type": "stream",
          "name": "stdout",
          "text": [
            "Requirement already satisfied: tabula-py in /usr/local/lib/python3.10/dist-packages (2.7.0)\n",
            "Requirement already satisfied: pandas>=0.25.3 in /usr/local/lib/python3.10/dist-packages (from tabula-py) (1.5.3)\n",
            "Requirement already satisfied: numpy in /usr/local/lib/python3.10/dist-packages (from tabula-py) (1.22.4)\n",
            "Requirement already satisfied: distro in /usr/lib/python3/dist-packages (from tabula-py) (1.7.0)\n",
            "Requirement already satisfied: python-dateutil>=2.8.1 in /usr/local/lib/python3.10/dist-packages (from pandas>=0.25.3->tabula-py) (2.8.2)\n",
            "Requirement already satisfied: pytz>=2020.1 in /usr/local/lib/python3.10/dist-packages (from pandas>=0.25.3->tabula-py) (2022.7.1)\n",
            "Requirement already satisfied: six>=1.5 in /usr/local/lib/python3.10/dist-packages (from python-dateutil>=2.8.1->pandas>=0.25.3->tabula-py) (1.16.0)\n",
            "Requirement already satisfied: requests in /usr/local/lib/python3.10/dist-packages (2.27.1)\n",
            "Requirement already satisfied: urllib3<1.27,>=1.21.1 in /usr/local/lib/python3.10/dist-packages (from requests) (1.26.16)\n",
            "Requirement already satisfied: certifi>=2017.4.17 in /usr/local/lib/python3.10/dist-packages (from requests) (2023.5.7)\n",
            "Requirement already satisfied: charset-normalizer~=2.0.0 in /usr/local/lib/python3.10/dist-packages (from requests) (2.0.12)\n",
            "Requirement already satisfied: idna<4,>=2.5 in /usr/local/lib/python3.10/dist-packages (from requests) (3.4)\n"
          ]
        }
      ]
    },
    {
      "cell_type": "code",
      "source": [
        "import tabula\n",
        "import requests\n",
        "import pandas as pd\n",
        "from bs4 import BeautifulSoup"
      ],
      "metadata": {
        "id": "aa3iG2MWLdQK"
      },
      "execution_count": 98,
      "outputs": []
    },
    {
      "cell_type": "code",
      "source": [
        "tabula.environment_info()"
      ],
      "metadata": {
        "colab": {
          "base_uri": "https://localhost:8080/"
        },
        "id": "zTMMwuXvLjme",
        "outputId": "a2e6d513-3812-4722-c80d-cb49141b5005"
      },
      "execution_count": 99,
      "outputs": [
        {
          "output_type": "stream",
          "name": "stdout",
          "text": [
            "Python version:\n",
            "    3.10.6 (main, May 29 2023, 11:10:38) [GCC 11.3.0]\n",
            "Java version:\n",
            "    openjdk version \"11.0.19\" 2023-04-18\n",
            "OpenJDK Runtime Environment (build 11.0.19+7-post-Ubuntu-0ubuntu122.04.1)\n",
            "OpenJDK 64-Bit Server VM (build 11.0.19+7-post-Ubuntu-0ubuntu122.04.1, mixed mode, sharing)\n",
            "tabula-py version: 2.7.0\n",
            "platform: Linux-5.15.109+-x86_64-with-glibc2.35\n",
            "uname:\n",
            "    uname_result(system='Linux', node='5f3508751db4', release='5.15.109+', version='#1 SMP Fri Jun 9 10:57:30 UTC 2023', machine='x86_64')\n",
            "linux_distribution: ('Ubuntu', '22.04', 'jammy')\n",
            "mac_ver: ('', ('', '', ''), '')\n"
          ]
        }
      ]
    },
    {
      "cell_type": "code",
      "source": [
        "##test\n",
        "pdf_path = 'https://www.fdma.go.jp/disaster/heatstroke/items/r5/heatstroke_sokuhouti_20230710.pdf'\n",
        "dfs = tabula.read_pdf(pdf_path, stream=True, pages=1)"
      ],
      "metadata": {
        "id": "tJ9_qXCvLpnW"
      },
      "execution_count": 100,
      "outputs": []
    },
    {
      "cell_type": "code",
      "source": [
        "df = dfs[0]\n",
        "df_base = df.iloc[2:7, [0, 5]]"
      ],
      "metadata": {
        "id": "K-O1BL4NMBdp"
      },
      "execution_count": 101,
      "outputs": []
    },
    {
      "cell_type": "code",
      "source": [
        "##Auto test"
      ],
      "metadata": {
        "id": "L17jk7s7Mcds"
      },
      "execution_count": 102,
      "outputs": []
    },
    {
      "cell_type": "code",
      "source": [
        "url = 'https://www.fdma.go.jp/disaster/heatstroke/post3.html'\n",
        "r = requests.get(url)\n",
        "text = r.text\n",
        "soup = BeautifulSoup(text)\n",
        "\n",
        "div_tag = soup.find_all('div', {'class': 'link-wrap mb30 txt'})\n",
        "\n",
        "href_list = []\n",
        "for i in div_tag[0].find_all('a', class_='link'):\n",
        "  href_tag = i.get('href')\n",
        "  href_list.append(href_tag)\n",
        "\n",
        "href_list_app = []\n",
        "for i in range(len(href_list)):\n",
        "    test = list(href_list[i])\n",
        "    test[:0] = 'https://www.fdma.go.jp/'\n",
        "    test = ''.join(test)\n",
        "    href_list_app.append(test)\n",
        "\n",
        "href_list_app.reverse()"
      ],
      "metadata": {
        "id": "zrRgxTOANBNM"
      },
      "execution_count": 103,
      "outputs": []
    },
    {
      "cell_type": "code",
      "source": [
        "dfs = tabula.read_pdf(href_list_app[0], stream=True, pages=1)\n",
        "df = dfs[0]\n",
        "df_base = df.iloc[2:9, [0, 5]]"
      ],
      "metadata": {
        "id": "0rousM38UP7O"
      },
      "execution_count": 104,
      "outputs": []
    },
    {
      "cell_type": "code",
      "source": [
        "for pdf_path in href_list_app[1:]:\n",
        "  dfs = tabula.read_pdf(pdf_path, stream=True, pages=1)\n",
        "  df = dfs[0]\n",
        "  df_add = df.iloc[2:9, [0, 5]]\n",
        "  df_base = pd.concat([df_base, df_add], axis=0)"
      ],
      "metadata": {
        "id": "E1EcueBBTWZv"
      },
      "execution_count": 105,
      "outputs": []
    },
    {
      "cell_type": "code",
      "source": [
        "df_base = df_base.rename(columns={'Unnamed: 0': 'date', 'Unnamed: 4': '熱中症患者数'})"
      ],
      "metadata": {
        "id": "55wV4V7GTvh-"
      },
      "execution_count": 106,
      "outputs": []
    },
    {
      "cell_type": "code",
      "source": [
        "df_base.to_csv('hot_weahter.csv')"
      ],
      "metadata": {
        "id": "Azf5gA3qULiP"
      },
      "execution_count": 107,
      "outputs": []
    },
    {
      "cell_type": "code",
      "source": [],
      "metadata": {
        "id": "NSN_gECvYy4x"
      },
      "execution_count": null,
      "outputs": []
    }
  ]
}
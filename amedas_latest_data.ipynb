{
 "cells": [
  {
   "cell_type": "code",
   "execution_count": 9,
   "id": "2f5f4c8b",
   "metadata": {},
   "outputs": [
    {
     "name": "stdout",
     "output_type": "stream",
     "text": [
      "Collecting datetime\n",
      "  Downloading DateTime-5.2-py3-none-any.whl (52 kB)\n",
      "\u001b[2K     \u001b[90m━━━━━━━━━━━━━━━━━━━━━━━━━━━━━━━━━━━━━━━━\u001b[0m \u001b[32m52.2/52.2 kB\u001b[0m \u001b[31m1.4 MB/s\u001b[0m eta \u001b[36m0:00:00\u001b[0m\n",
      "\u001b[?25hCollecting zope.interface (from datetime)\n",
      "  Downloading zope.interface-6.0-cp311-cp311-macosx_10_9_x86_64.whl (202 kB)\n",
      "\u001b[2K     \u001b[90m━━━━━━━━━━━━━━━━━━━━━━━━━━━━━━━━━━━━━━━\u001b[0m \u001b[32m202.3/202.3 kB\u001b[0m \u001b[31m3.7 MB/s\u001b[0m eta \u001b[36m0:00:00\u001b[0ma \u001b[36m0:00:01\u001b[0m\n",
      "\u001b[?25hRequirement already satisfied: pytz in /Users/mio/.pyenv/versions/3.11.3/lib/python3.11/site-packages (from datetime) (2023.3)\n",
      "Requirement already satisfied: setuptools in /Users/mio/.pyenv/versions/3.11.3/lib/python3.11/site-packages (from zope.interface->datetime) (65.5.0)\n",
      "Installing collected packages: zope.interface, datetime\n",
      "Successfully installed datetime-5.2 zope.interface-6.0\n",
      "\n",
      "\u001b[1m[\u001b[0m\u001b[34;49mnotice\u001b[0m\u001b[1;39;49m]\u001b[0m\u001b[39;49m A new release of pip is available: \u001b[0m\u001b[31;49m23.1.2\u001b[0m\u001b[39;49m -> \u001b[0m\u001b[32;49m23.2\u001b[0m\n",
      "\u001b[1m[\u001b[0m\u001b[34;49mnotice\u001b[0m\u001b[1;39;49m]\u001b[0m\u001b[39;49m To update, run: \u001b[0m\u001b[32;49mpip install --upgrade pip\u001b[0m\n"
     ]
    }
   ],
   "source": [
    "!pip install datetime"
   ]
  },
  {
   "cell_type": "code",
   "execution_count": 10,
   "id": "53a475af",
   "metadata": {},
   "outputs": [
    {
     "name": "stdout",
     "output_type": "stream",
     "text": [
      "20230728170000\n"
     ]
    }
   ],
   "source": [
    "#amedasから最新の気象データを取得する\n",
    "\n",
    "#import dependencies\n",
    "import requests\n",
    "import pandas as pd\n",
    "from datetime import datetime,timedelta\n",
    "\n",
    "#data1: 地点情報\n",
    "url = 'https://www.jma.go.jp/bosai/amedas/const/amedastable.json'\n",
    "r = requests.get(url)\n",
    "data1 = r.json()\n",
    "\n",
    "#data2: amedasの最新気象データ\n",
    "##最新の時刻\n",
    "r = requests.get('https://www.jma.go.jp/bosai/amedas/data/latest_time.txt')\n",
    "latest_time = r.text\n",
    "latest_time = datetime.strptime(latest_time, '%Y-%m-%dT%H:%M:%S%z').strftime('%Y%m%d%H0000')\n",
    "print(latest_time)\n",
    "\n",
    "##最新のデータ\n",
    "url = f\"https://www.jma.go.jp/bosai/amedas/data/map/{latest_time}.json\"\n",
    "r = requests.get(url)\n",
    "data2 = r.json()\n",
    "\n",
    "#data1とdata2を統合\n",
    "amedas_data = {key: {**data1.get(key, {}), **data2.get(key, {})} for key in set(data1) | set(data2)}\n",
    "\n",
    "#データ整形\n",
    "amedas = pd.DataFrame(amedas_data)\n",
    "amedas = amedas.T.rename_axis('amdno').reset_index()\n",
    "\n",
    "##geo-cordをととのえる\n",
    "amedas[['lat','lon']] = amedas[['lat','lon']].applymap(lambda x: x[0] + x[1]/60)\n",
    "\n",
    "##残りのリスト形式のデータから値のみ抽出\n",
    "amedas = amedas.applymap(lambda x: x[0] if type(x)==list else x)\n",
    "\n",
    "#amedas.to_csv('./data/amedas_latest_data.csv',encoding='utf-8-sig',index=False)"
   ]
  },
  {
   "cell_type": "code",
   "execution_count": 13,
   "id": "d9739bbb",
   "metadata": {},
   "outputs": [
    {
     "data": {
      "text/plain": [
       "(1287, 28)"
      ]
     },
     "execution_count": 13,
     "metadata": {},
     "output_type": "execute_result"
    }
   ],
   "source": [
    "amedas.shape"
   ]
  },
  {
   "cell_type": "code",
   "execution_count": 14,
   "id": "d3648a94",
   "metadata": {},
   "outputs": [
    {
     "ename": "TypeError",
     "evalue": "DataFrame.dropna() got an unexpected keyword argument 'subeset'",
     "output_type": "error",
     "traceback": [
      "\u001b[0;31m---------------------------------------------------------------------------\u001b[0m",
      "\u001b[0;31mTypeError\u001b[0m                                 Traceback (most recent call last)",
      "Cell \u001b[0;32mIn[14], line 1\u001b[0m\n\u001b[0;32m----> 1\u001b[0m \u001b[43mamedas\u001b[49m\u001b[38;5;241;43m.\u001b[39;49m\u001b[43mdropna\u001b[49m\u001b[43m(\u001b[49m\u001b[43msubeset\u001b[49m\u001b[38;5;241;43m=\u001b[39;49m\u001b[43m[\u001b[49m\u001b[38;5;124;43m'\u001b[39;49m\u001b[38;5;124;43mtemp\u001b[39;49m\u001b[38;5;124;43m'\u001b[39;49m\u001b[43m]\u001b[49m\u001b[43m)\u001b[49m\n",
      "\u001b[0;31mTypeError\u001b[0m: DataFrame.dropna() got an unexpected keyword argument 'subeset'"
     ]
    }
   ],
   "source": [
    "amedas.dropna(subeset=['temp'])"
   ]
  },
  {
   "cell_type": "code",
   "execution_count": null,
   "id": "21f7458a",
   "metadata": {},
   "outputs": [],
   "source": []
  }
 ],
 "metadata": {
  "kernelspec": {
   "display_name": "python3.11.3",
   "language": "python",
   "name": "python3.11.3"
  },
  "language_info": {
   "codemirror_mode": {
    "name": "ipython",
    "version": 3
   },
   "file_extension": ".py",
   "mimetype": "text/x-python",
   "name": "python",
   "nbconvert_exporter": "python",
   "pygments_lexer": "ipython3",
   "version": "3.11.3"
  },
  "toc": {
   "base_numbering": 1,
   "nav_menu": {},
   "number_sections": true,
   "sideBar": true,
   "skip_h1_title": false,
   "title_cell": "Table of Contents",
   "title_sidebar": "Contents",
   "toc_cell": false,
   "toc_position": {},
   "toc_section_display": true,
   "toc_window_display": true
  }
 },
 "nbformat": 4,
 "nbformat_minor": 5
}

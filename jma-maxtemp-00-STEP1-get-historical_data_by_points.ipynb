{
 "cells": [
  {
   "cell_type": "markdown",
   "metadata": {},
   "source": [
    "# jma-maxtemp-00-STEP1-get-historical_data_by_points\n"
   ]
  },
  {
   "cell_type": "markdown",
   "metadata": {},
   "source": [
    "* 作業内容\n",
    "    * 気象庁[過去の気象データ検索](https://www.data.jma.go.jp/stats/etrn/index.php?prec_no=&block_no=&year=&month=&day=&view=)から各ブロックの「最高気温」のデータを取得\n",
    "\n",
    "* 不定期運転\n",
    "    * 最初のデータ作成時\n",
    "    * 過去データを遡及して取得して期間をのばしたいとき\n",
    "    * 月次データの更新など（やりたければ）\n",
    "<br><br>\n",
    "* 次のステップ（STEP2）\n",
    "    * 出力されたブロック別データをもとに県別の日次の最高気温の推移を作成"
   ]
  },
  {
   "cell_type": "code",
   "execution_count": 1,
   "metadata": {
    "id": "xbJ1cvD6wAwq"
   },
   "outputs": [],
   "source": [
    "import pandas as pd\n",
    "import time\n",
    "from datetime import datetime, date\n",
    "import glob\n",
    "import re"
   ]
  },
  {
   "cell_type": "code",
   "execution_count": 2,
   "metadata": {
    "id": "ggi8XUtKwA9B"
   },
   "outputs": [],
   "source": [
    "#観測地点のデータ\n",
    "url = 'https://raw.githubusercontent.com/Nikkei-Visual-Data-Journalism/Heatwave/main/data-maxtemp/meta/points_list.csv'\n",
    "points = pd.read_csv(url)"
   ]
  },
  {
   "cell_type": "code",
   "execution_count": 3,
   "metadata": {
    "colab": {
     "base_uri": "https://localhost:8080/",
     "height": 206
    },
    "id": "7BJ-BT-HwH88",
    "outputId": "cf47ba20-a3a3-45e3-ddb1-39c765255ca2"
   },
   "outputs": [
    {
     "data": {
      "text/html": [
       "<div>\n",
       "<style scoped>\n",
       "    .dataframe tbody tr th:only-of-type {\n",
       "        vertical-align: middle;\n",
       "    }\n",
       "\n",
       "    .dataframe tbody tr th {\n",
       "        vertical-align: top;\n",
       "    }\n",
       "\n",
       "    .dataframe thead th {\n",
       "        text-align: right;\n",
       "    }\n",
       "</style>\n",
       "<table border=\"1\" class=\"dataframe\">\n",
       "  <thead>\n",
       "    <tr style=\"text-align: right;\">\n",
       "      <th></th>\n",
       "      <th>観測所番号</th>\n",
       "      <th>prec_no</th>\n",
       "      <th>国際地点番号</th>\n",
       "      <th>都道府県</th>\n",
       "      <th>name</th>\n",
       "      <th>地点</th>\n",
       "      <th>pref</th>\n",
       "      <th>capitol</th>\n",
       "    </tr>\n",
       "  </thead>\n",
       "  <tbody>\n",
       "    <tr>\n",
       "      <th>0</th>\n",
       "      <td>11001</td>\n",
       "      <td>11</td>\n",
       "      <td>NaN</td>\n",
       "      <td>北海道宗谷地方</td>\n",
       "      <td>宗谷岬</td>\n",
       "      <td>宗谷岬（ソウヤミサキ）</td>\n",
       "      <td>北海道</td>\n",
       "      <td>NaN</td>\n",
       "    </tr>\n",
       "    <tr>\n",
       "      <th>1</th>\n",
       "      <td>11016</td>\n",
       "      <td>11</td>\n",
       "      <td>47401.0</td>\n",
       "      <td>北海道宗谷地方</td>\n",
       "      <td>稚内</td>\n",
       "      <td>稚内（ワッカナイ）</td>\n",
       "      <td>北海道</td>\n",
       "      <td>NaN</td>\n",
       "    </tr>\n",
       "    <tr>\n",
       "      <th>2</th>\n",
       "      <td>11046</td>\n",
       "      <td>11</td>\n",
       "      <td>NaN</td>\n",
       "      <td>北海道宗谷地方</td>\n",
       "      <td>礼文</td>\n",
       "      <td>礼文（レブン）</td>\n",
       "      <td>北海道</td>\n",
       "      <td>NaN</td>\n",
       "    </tr>\n",
       "    <tr>\n",
       "      <th>3</th>\n",
       "      <td>11061</td>\n",
       "      <td>11</td>\n",
       "      <td>NaN</td>\n",
       "      <td>北海道宗谷地方</td>\n",
       "      <td>声問</td>\n",
       "      <td>声問（コエトイ）</td>\n",
       "      <td>北海道</td>\n",
       "      <td>NaN</td>\n",
       "    </tr>\n",
       "    <tr>\n",
       "      <th>4</th>\n",
       "      <td>11076</td>\n",
       "      <td>11</td>\n",
       "      <td>NaN</td>\n",
       "      <td>北海道宗谷地方</td>\n",
       "      <td>浜鬼志別</td>\n",
       "      <td>浜鬼志別（ハマオニシベツ）</td>\n",
       "      <td>北海道</td>\n",
       "      <td>NaN</td>\n",
       "    </tr>\n",
       "  </tbody>\n",
       "</table>\n",
       "</div>"
      ],
      "text/plain": [
       "   観測所番号  prec_no   国際地点番号     都道府県  name             地点 pref  capitol\n",
       "0  11001       11      NaN  北海道宗谷地方   宗谷岬    宗谷岬（ソウヤミサキ）  北海道      NaN\n",
       "1  11016       11  47401.0  北海道宗谷地方    稚内      稚内（ワッカナイ）  北海道      NaN\n",
       "2  11046       11      NaN  北海道宗谷地方    礼文        礼文（レブン）  北海道      NaN\n",
       "3  11061       11      NaN  北海道宗谷地方    声問       声問（コエトイ）  北海道      NaN\n",
       "4  11076       11      NaN  北海道宗谷地方  浜鬼志別  浜鬼志別（ハマオニシベツ）  北海道      NaN"
      ]
     },
     "execution_count": 3,
     "metadata": {},
     "output_type": "execute_result"
    }
   ],
   "source": [
    "points.head()"
   ]
  },
  {
   "cell_type": "code",
   "execution_count": 4,
   "metadata": {
    "id": "qKktqOIiv_an"
   },
   "outputs": [],
   "source": [
    "def get_historical_maxtemp(prec_no, md):\n",
    "  #変数\n",
    "  #全域は00\n",
    "  block_no = '00'\n",
    "  year =md.year\n",
    "  month = md.month\n",
    "  #データ取得\n",
    "  url = f'https://www.data.jma.go.jp/stats/etrn/view/daily_h1.php?prec_no={prec_no}&block_no={block_no}&year={year}&month={str(month).zfill(2)}&day=&view=p3'\n",
    "  tables = pd.read_html(url)\n",
    "  df = tables[0]\n",
    "  df.columns = df.columns.str.replace(\"*\", \"\", regex=False)\n",
    "  df['date'] =md\n",
    "  df['date'] = df.apply(lambda row: row['date'].replace(day=row['日']), axis=1)\n",
    "  df = df.drop(['日'],axis=1).set_index('date')\n",
    "  return df"
   ]
  },
  {
   "cell_type": "markdown",
   "metadata": {
    "id": "zziBqH_43bwx"
   },
   "source": [
    "取得済みのファイル"
   ]
  },
  {
   "cell_type": "code",
   "execution_count": 5,
   "metadata": {},
   "outputs": [
    {
     "data": {
      "text/plain": [
       "'/Users/mio/Documents/GitHub/Nikkei-Visual&Data/Heatwave'"
      ]
     },
     "execution_count": 5,
     "metadata": {},
     "output_type": "execute_result"
    }
   ],
   "source": [
    "%pwd"
   ]
  },
  {
   "cell_type": "code",
   "execution_count": 6,
   "metadata": {
    "id": "lEQukQaE0q9c"
   },
   "outputs": [],
   "source": [
    "file_dir = \"./data-maxtemp/timeseries-data-by-points/data-raw/\""
   ]
  },
  {
   "cell_type": "code",
   "execution_count": 7,
   "metadata": {
    "id": "AJJU_Vdm0lW4"
   },
   "outputs": [],
   "source": [
    "file_list = glob.glob(f'{file_dir}prec-*/**/*.csv', recursive=True)"
   ]
  },
  {
   "cell_type": "code",
   "execution_count": 8,
   "metadata": {
    "id": "YCKDCm2p1dx5",
    "scrolled": true
   },
   "outputs": [],
   "source": [
    "retrieved = pd.DataFrame(columns = ['prec_no','yyyymm','data'])\n",
    "\n",
    "pattern = r\"/prec-(\\d+)/jma-maxtemp-hs-\\d+-(\\d+)\\.csv$\"\n",
    "\n",
    "for f in file_list:\n",
    "    prec, yyyymm = re.search(pattern, f).groups()\n",
    "    data =  {'prec_no': [int(prec)], 'yyyymm':[yyyymm],'data':[1]}\n",
    "    retrieved = pd.concat([retrieved, pd.DataFrame(data)])"
   ]
  },
  {
   "cell_type": "code",
   "execution_count": 9,
   "metadata": {
    "scrolled": true
   },
   "outputs": [
    {
     "data": {
      "text/html": [
       "<div>\n",
       "<style scoped>\n",
       "    .dataframe tbody tr th:only-of-type {\n",
       "        vertical-align: middle;\n",
       "    }\n",
       "\n",
       "    .dataframe tbody tr th {\n",
       "        vertical-align: top;\n",
       "    }\n",
       "\n",
       "    .dataframe thead th {\n",
       "        text-align: right;\n",
       "    }\n",
       "</style>\n",
       "<table border=\"1\" class=\"dataframe\">\n",
       "  <thead>\n",
       "    <tr style=\"text-align: right;\">\n",
       "      <th></th>\n",
       "      <th>prec_no</th>\n",
       "      <th>yyyymm</th>\n",
       "      <th>data</th>\n",
       "    </tr>\n",
       "  </thead>\n",
       "  <tbody>\n",
       "    <tr>\n",
       "      <th>0</th>\n",
       "      <td>64</td>\n",
       "      <td>201002</td>\n",
       "      <td>1</td>\n",
       "    </tr>\n",
       "    <tr>\n",
       "      <th>0</th>\n",
       "      <td>64</td>\n",
       "      <td>200308</td>\n",
       "      <td>1</td>\n",
       "    </tr>\n",
       "    <tr>\n",
       "      <th>0</th>\n",
       "      <td>64</td>\n",
       "      <td>201610</td>\n",
       "      <td>1</td>\n",
       "    </tr>\n",
       "    <tr>\n",
       "      <th>0</th>\n",
       "      <td>64</td>\n",
       "      <td>201604</td>\n",
       "      <td>1</td>\n",
       "    </tr>\n",
       "    <tr>\n",
       "      <th>0</th>\n",
       "      <td>64</td>\n",
       "      <td>200903</td>\n",
       "      <td>1</td>\n",
       "    </tr>\n",
       "  </tbody>\n",
       "</table>\n",
       "</div>"
      ],
      "text/plain": [
       "  prec_no  yyyymm data\n",
       "0      64  201002    1\n",
       "0      64  200308    1\n",
       "0      64  201610    1\n",
       "0      64  201604    1\n",
       "0      64  200903    1"
      ]
     },
     "execution_count": 9,
     "metadata": {},
     "output_type": "execute_result"
    }
   ],
   "source": [
    "retrieved.head()"
   ]
  },
  {
   "cell_type": "markdown",
   "metadata": {
    "id": "tmnQhvSk3fPD"
   },
   "source": [
    "期間"
   ]
  },
  {
   "cell_type": "code",
   "execution_count": 10,
   "metadata": {
    "id": "FWuOJWk65eJc"
   },
   "outputs": [],
   "source": [
    "dates = pd.date_range('2000-01-01', '2023-08-01', freq='M')"
   ]
  },
  {
   "cell_type": "code",
   "execution_count": null,
   "metadata": {
    "colab": {
     "base_uri": "https://localhost:8080/"
    },
    "id": "9EQDMPoGxmeb",
    "outputId": "f6220444-438c-4ecc-9ad4-1644e7c925bc"
   },
   "outputs": [
    {
     "name": "stdout",
     "output_type": "stream",
     "text": [
      "OK: 35 2018-06-30 00:00:00\n",
      "OK: 35 2023-02-28 00:00:00\n",
      "OK: 36 2000-02-29 00:00:00\n",
      "OK: 48 2018-03-31 00:00:00\n",
      "OK: 73 2004-03-31 00:00:00\n",
      "OK: 73 2004-08-31 00:00:00\n",
      "OK: 73 2004-10-31 00:00:00\n",
      "OK: 73 2005-06-30 00:00:00\n",
      "OK: 73 2005-07-31 00:00:00\n",
      "OK: 73 2005-09-30 00:00:00\n",
      "OK: 73 2008-12-31 00:00:00\n",
      "OK: 73 2009-01-31 00:00:00\n",
      "OK: 73 2009-02-28 00:00:00\n",
      "OK: 73 2009-03-31 00:00:00\n",
      "OK: 73 2009-04-30 00:00:00\n",
      "OK: 73 2009-05-31 00:00:00\n",
      "OK: 73 2009-06-30 00:00:00\n",
      "OK: 73 2009-07-31 00:00:00\n",
      "OK: 73 2009-08-31 00:00:00\n",
      "OK: 73 2009-09-30 00:00:00\n",
      "OK: 73 2009-10-31 00:00:00\n",
      "OK: 73 2009-11-30 00:00:00\n",
      "OK: 73 2009-12-31 00:00:00\n",
      "OK: 73 2010-01-31 00:00:00\n",
      "OK: 73 2010-02-28 00:00:00\n",
      "OK: 73 2010-03-31 00:00:00\n",
      "OK: 73 2010-04-30 00:00:00\n",
      "OK: 73 2010-05-31 00:00:00\n",
      "OK: 73 2010-06-30 00:00:00\n",
      "OK: 73 2010-07-31 00:00:00\n",
      "OK: 73 2010-08-31 00:00:00\n",
      "OK: 73 2010-09-30 00:00:00\n",
      "OK: 73 2010-10-31 00:00:00\n",
      "OK: 73 2010-11-30 00:00:00\n",
      "OK: 73 2010-12-31 00:00:00\n",
      "OK: 73 2011-01-31 00:00:00\n"
     ]
    }
   ],
   "source": [
    "errors = []\n",
    "for prec in points.prec_no.unique():\n",
    "    points_n = points[points.prec_no==prec]\n",
    "    points_n_dic = points_n.set_index('name')['観測所番号'].to_dict()\n",
    "    \n",
    "    for md in dates:\n",
    "        try:\n",
    "            #if 0 ==0:\n",
    "            if retrieved[(retrieved.prec_no==prec)&(retrieved.yyyymm==md.strftime('%Y%m'))].shape[0] > 0:\n",
    "                pass\n",
    "                #print('file already retrieved:',prec, md)\n",
    "            else:\n",
    "                by_prec = get_historical_maxtemp(prec, md)\n",
    "                by_prec = by_prec.rename_axis('name', axis=1).unstack().rename('maxtemp').reset_index()\n",
    "                by_prec['prec_no'] = prec\n",
    "                by_prec['points_no'] = by_prec.name.map(points_n_dic)\n",
    "\n",
    "                #output monthly data\n",
    "                filename = f\"jma-maxtemp-hs-{prec}-{md.strftime('%Y%m')}.csv\"\n",
    "                filepath = f\"{file_dir}prec-{prec}/{filename}\"\n",
    "                by_prec.to_csv(filepath, index= False)\n",
    "                #print result\n",
    "                print('OK:',prec, md)\n",
    "                #time.sleep(1)\n",
    "        except:\n",
    "            errors.append({'date':md, 'prec_no':prec})\n",
    "            #print result\n",
    "            print('FAILED:',prec, md)"
   ]
  },
  {
   "cell_type": "code",
   "execution_count": null,
   "metadata": {},
   "outputs": [],
   "source": []
  }
 ],
 "metadata": {
  "colab": {
   "provenance": []
  },
  "kernelspec": {
   "display_name": "python3.11.3",
   "language": "python",
   "name": "python3.11.3"
  },
  "language_info": {
   "codemirror_mode": {
    "name": "ipython",
    "version": 3
   },
   "file_extension": ".py",
   "mimetype": "text/x-python",
   "name": "python",
   "nbconvert_exporter": "python",
   "pygments_lexer": "ipython3",
   "version": "3.11.3"
  },
  "toc": {
   "base_numbering": 1,
   "nav_menu": {},
   "number_sections": true,
   "sideBar": true,
   "skip_h1_title": false,
   "title_cell": "Table of Contents",
   "title_sidebar": "Contents",
   "toc_cell": false,
   "toc_position": {},
   "toc_section_display": true,
   "toc_window_display": true
  }
 },
 "nbformat": 4,
 "nbformat_minor": 1
}

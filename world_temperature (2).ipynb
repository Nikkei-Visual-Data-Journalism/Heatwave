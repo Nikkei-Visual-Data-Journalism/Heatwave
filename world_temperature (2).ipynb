{
  "cells": [
    {
      "cell_type": "code",
      "execution_count": 17,
      "id": "ca7c51d2",
      "metadata": {
        "id": "ca7c51d2",
        "colab": {
          "base_uri": "https://localhost:8080/"
        },
        "outputId": "7ae886a9-b9c2-4ec7-f705-2142ce276bac"
      },
      "outputs": [
        {
          "output_type": "stream",
          "name": "stdout",
          "text": [
            "Requirement already satisfied: pandas in /usr/local/lib/python3.10/dist-packages (1.5.3)\n",
            "Requirement already satisfied: python-dateutil>=2.8.1 in /usr/local/lib/python3.10/dist-packages (from pandas) (2.8.2)\n",
            "Requirement already satisfied: pytz>=2020.1 in /usr/local/lib/python3.10/dist-packages (from pandas) (2022.7.1)\n",
            "Requirement already satisfied: numpy>=1.21.0 in /usr/local/lib/python3.10/dist-packages (from pandas) (1.22.4)\n",
            "Requirement already satisfied: six>=1.5 in /usr/local/lib/python3.10/dist-packages (from python-dateutil>=2.8.1->pandas) (1.16.0)\n"
          ]
        }
      ],
      "source": [
        "pip install pandas"
      ]
    },
    {
      "cell_type": "code",
      "source": [
        "import requests\n",
        "import pandas as pd\n",
        "import numpy as np"
      ],
      "metadata": {
        "id": "OZEFCfG2vujX"
      },
      "id": "OZEFCfG2vujX",
      "execution_count": null,
      "outputs": []
    },
    {
      "cell_type": "code",
      "execution_count": 2,
      "id": "7e762117",
      "metadata": {
        "id": "7e762117"
      },
      "outputs": [],
      "source": [
        "url = 'https://climatereanalyzer.org/clim/t2_daily/json/cfsr_world_t2_day.json'"
      ]
    },
    {
      "cell_type": "code",
      "execution_count": 3,
      "id": "565bb8fe",
      "metadata": {
        "id": "565bb8fe"
      },
      "outputs": [],
      "source": [
        "response = requests.get(url)"
      ]
    },
    {
      "cell_type": "code",
      "execution_count": 4,
      "id": "5a1bde2c",
      "metadata": {
        "id": "5a1bde2c"
      },
      "outputs": [],
      "source": [
        "data = response.json()"
      ]
    },
    {
      "cell_type": "code",
      "execution_count": 5,
      "id": "de562a03",
      "metadata": {
        "id": "de562a03"
      },
      "outputs": [],
      "source": [
        "df_data = pd.DataFrame(data)"
      ]
    },
    {
      "cell_type": "code",
      "execution_count": 6,
      "id": "90f073d3",
      "metadata": {
        "id": "90f073d3"
      },
      "outputs": [],
      "source": [
        "#1979-2023のデータフレームに\n",
        "#2024になったらエラー発生見込み\n",
        "\n",
        "df_data = df_data.iloc[0:45]"
      ]
    },
    {
      "cell_type": "code",
      "execution_count": 7,
      "id": "c663fdc8",
      "metadata": {
        "id": "c663fdc8"
      },
      "outputs": [],
      "source": [
        "dates = pd.date_range(start='1979-01-01', end='2023-12-31')\n",
        "\n",
        "# 月と日を取り出して文字列に変換し、連結する\n",
        "month_day = dates.month.astype(str) + '/' + dates.day.astype(str)\n",
        "\n",
        "# 年を取り出す\n",
        "year = dates.year\n",
        "\n",
        "# 新たなデータフレームを作成\n",
        "df = pd.DataFrame({\n",
        "    'date': month_day,\n",
        "    'year': year\n",
        "})"
      ]
    },
    {
      "cell_type": "code",
      "execution_count": 8,
      "id": "99ced6ed",
      "metadata": {
        "id": "99ced6ed"
      },
      "outputs": [],
      "source": [
        "temp = []"
      ]
    },
    {
      "cell_type": "code",
      "execution_count": 9,
      "id": "b4126999",
      "metadata": {
        "id": "b4126999"
      },
      "outputs": [],
      "source": [
        "#閏年でない年は、最後にnoneが入っているから取り除く必要あり\n",
        "\n",
        "for i in range(45):\n",
        "    list_with_none = df_data.data[i]\n",
        "    list_without_none = [x for x in list_with_none if x is not None]\n",
        "    for k in range(len(list_without_none)):\n",
        "        temp.append(round(list_without_none[k], 2))"
      ]
    },
    {
      "cell_type": "code",
      "execution_count": 10,
      "id": "98ef8aa9",
      "metadata": {
        "id": "98ef8aa9"
      },
      "outputs": [],
      "source": [
        "#temp列をNaNで埋める\n",
        "\n",
        "df['temp'] = pd.Series(np.nan, index = df.index)"
      ]
    },
    {
      "cell_type": "code",
      "execution_count": 11,
      "id": "85096a76",
      "metadata": {
        "id": "85096a76"
      },
      "outputs": [],
      "source": [
        "#あるだけtempデータを入れる\n",
        "\n",
        "df.loc[df.index[:len(temp)], 'temp'] = temp"
      ]
    },
    {
      "cell_type": "code",
      "execution_count": 12,
      "id": "7f2b09b0",
      "metadata": {
        "id": "7f2b09b0"
      },
      "outputs": [],
      "source": [
        "df = df.dropna()"
      ]
    },
    {
      "cell_type": "code",
      "execution_count": 13,
      "id": "7b24a8dc",
      "metadata": {
        "id": "7b24a8dc"
      },
      "outputs": [],
      "source": [
        "df_without_229 = df[~df['date'].str.contains('^2/29$', regex=True)]"
      ]
    },
    {
      "cell_type": "code",
      "execution_count": 14,
      "id": "7c54728e",
      "metadata": {
        "id": "7c54728e"
      },
      "outputs": [],
      "source": [
        "df_without_229 = df_without_229[['temp', 'year', 'date']]"
      ]
    },
    {
      "cell_type": "code",
      "execution_count": 15,
      "id": "0e414df7",
      "metadata": {
        "id": "0e414df7",
        "outputId": "7de0b4db-808f-4a56-b7ce-c71aa63f8e22",
        "colab": {
          "base_uri": "https://localhost:8080/",
          "height": 424
        }
      },
      "outputs": [
        {
          "output_type": "execute_result",
          "data": {
            "text/plain": [
              "        temp  year  date\n",
              "0      12.31  1979   1/1\n",
              "1      12.29  1979   1/2\n",
              "2      12.27  1979   1/3\n",
              "3      12.23  1979   1/4\n",
              "4      12.27  1979   1/5\n",
              "...      ...   ...   ...\n",
              "16271  17.12  2023  7/20\n",
              "16272  17.11  2023  7/21\n",
              "16273  17.10  2023  7/22\n",
              "16274  17.08  2023  7/23\n",
              "16275  17.08  2023  7/24\n",
              "\n",
              "[16265 rows x 3 columns]"
            ],
            "text/html": [
              "\n",
              "\n",
              "  <div id=\"df-889309ac-605c-4254-b56d-b66ae2e760d8\">\n",
              "    <div class=\"colab-df-container\">\n",
              "      <div>\n",
              "<style scoped>\n",
              "    .dataframe tbody tr th:only-of-type {\n",
              "        vertical-align: middle;\n",
              "    }\n",
              "\n",
              "    .dataframe tbody tr th {\n",
              "        vertical-align: top;\n",
              "    }\n",
              "\n",
              "    .dataframe thead th {\n",
              "        text-align: right;\n",
              "    }\n",
              "</style>\n",
              "<table border=\"1\" class=\"dataframe\">\n",
              "  <thead>\n",
              "    <tr style=\"text-align: right;\">\n",
              "      <th></th>\n",
              "      <th>temp</th>\n",
              "      <th>year</th>\n",
              "      <th>date</th>\n",
              "    </tr>\n",
              "  </thead>\n",
              "  <tbody>\n",
              "    <tr>\n",
              "      <th>0</th>\n",
              "      <td>12.31</td>\n",
              "      <td>1979</td>\n",
              "      <td>1/1</td>\n",
              "    </tr>\n",
              "    <tr>\n",
              "      <th>1</th>\n",
              "      <td>12.29</td>\n",
              "      <td>1979</td>\n",
              "      <td>1/2</td>\n",
              "    </tr>\n",
              "    <tr>\n",
              "      <th>2</th>\n",
              "      <td>12.27</td>\n",
              "      <td>1979</td>\n",
              "      <td>1/3</td>\n",
              "    </tr>\n",
              "    <tr>\n",
              "      <th>3</th>\n",
              "      <td>12.23</td>\n",
              "      <td>1979</td>\n",
              "      <td>1/4</td>\n",
              "    </tr>\n",
              "    <tr>\n",
              "      <th>4</th>\n",
              "      <td>12.27</td>\n",
              "      <td>1979</td>\n",
              "      <td>1/5</td>\n",
              "    </tr>\n",
              "    <tr>\n",
              "      <th>...</th>\n",
              "      <td>...</td>\n",
              "      <td>...</td>\n",
              "      <td>...</td>\n",
              "    </tr>\n",
              "    <tr>\n",
              "      <th>16271</th>\n",
              "      <td>17.12</td>\n",
              "      <td>2023</td>\n",
              "      <td>7/20</td>\n",
              "    </tr>\n",
              "    <tr>\n",
              "      <th>16272</th>\n",
              "      <td>17.11</td>\n",
              "      <td>2023</td>\n",
              "      <td>7/21</td>\n",
              "    </tr>\n",
              "    <tr>\n",
              "      <th>16273</th>\n",
              "      <td>17.10</td>\n",
              "      <td>2023</td>\n",
              "      <td>7/22</td>\n",
              "    </tr>\n",
              "    <tr>\n",
              "      <th>16274</th>\n",
              "      <td>17.08</td>\n",
              "      <td>2023</td>\n",
              "      <td>7/23</td>\n",
              "    </tr>\n",
              "    <tr>\n",
              "      <th>16275</th>\n",
              "      <td>17.08</td>\n",
              "      <td>2023</td>\n",
              "      <td>7/24</td>\n",
              "    </tr>\n",
              "  </tbody>\n",
              "</table>\n",
              "<p>16265 rows × 3 columns</p>\n",
              "</div>\n",
              "      <button class=\"colab-df-convert\" onclick=\"convertToInteractive('df-889309ac-605c-4254-b56d-b66ae2e760d8')\"\n",
              "              title=\"Convert this dataframe to an interactive table.\"\n",
              "              style=\"display:none;\">\n",
              "\n",
              "  <svg xmlns=\"http://www.w3.org/2000/svg\" height=\"24px\"viewBox=\"0 0 24 24\"\n",
              "       width=\"24px\">\n",
              "    <path d=\"M0 0h24v24H0V0z\" fill=\"none\"/>\n",
              "    <path d=\"M18.56 5.44l.94 2.06.94-2.06 2.06-.94-2.06-.94-.94-2.06-.94 2.06-2.06.94zm-11 1L8.5 8.5l.94-2.06 2.06-.94-2.06-.94L8.5 2.5l-.94 2.06-2.06.94zm10 10l.94 2.06.94-2.06 2.06-.94-2.06-.94-.94-2.06-.94 2.06-2.06.94z\"/><path d=\"M17.41 7.96l-1.37-1.37c-.4-.4-.92-.59-1.43-.59-.52 0-1.04.2-1.43.59L10.3 9.45l-7.72 7.72c-.78.78-.78 2.05 0 2.83L4 21.41c.39.39.9.59 1.41.59.51 0 1.02-.2 1.41-.59l7.78-7.78 2.81-2.81c.8-.78.8-2.07 0-2.86zM5.41 20L4 18.59l7.72-7.72 1.47 1.35L5.41 20z\"/>\n",
              "  </svg>\n",
              "      </button>\n",
              "\n",
              "\n",
              "\n",
              "    <div id=\"df-2d8fe7cd-4611-4d82-89c6-a3d7a5ff0a16\">\n",
              "      <button class=\"colab-df-quickchart\" onclick=\"quickchart('df-2d8fe7cd-4611-4d82-89c6-a3d7a5ff0a16')\"\n",
              "              title=\"Suggest charts.\"\n",
              "              style=\"display:none;\">\n",
              "\n",
              "<svg xmlns=\"http://www.w3.org/2000/svg\" height=\"24px\"viewBox=\"0 0 24 24\"\n",
              "     width=\"24px\">\n",
              "    <g>\n",
              "        <path d=\"M19 3H5c-1.1 0-2 .9-2 2v14c0 1.1.9 2 2 2h14c1.1 0 2-.9 2-2V5c0-1.1-.9-2-2-2zM9 17H7v-7h2v7zm4 0h-2V7h2v10zm4 0h-2v-4h2v4z\"/>\n",
              "    </g>\n",
              "</svg>\n",
              "      </button>\n",
              "    </div>\n",
              "\n",
              "<style>\n",
              "  .colab-df-quickchart {\n",
              "    background-color: #E8F0FE;\n",
              "    border: none;\n",
              "    border-radius: 50%;\n",
              "    cursor: pointer;\n",
              "    display: none;\n",
              "    fill: #1967D2;\n",
              "    height: 32px;\n",
              "    padding: 0 0 0 0;\n",
              "    width: 32px;\n",
              "  }\n",
              "\n",
              "  .colab-df-quickchart:hover {\n",
              "    background-color: #E2EBFA;\n",
              "    box-shadow: 0px 1px 2px rgba(60, 64, 67, 0.3), 0px 1px 3px 1px rgba(60, 64, 67, 0.15);\n",
              "    fill: #174EA6;\n",
              "  }\n",
              "\n",
              "  [theme=dark] .colab-df-quickchart {\n",
              "    background-color: #3B4455;\n",
              "    fill: #D2E3FC;\n",
              "  }\n",
              "\n",
              "  [theme=dark] .colab-df-quickchart:hover {\n",
              "    background-color: #434B5C;\n",
              "    box-shadow: 0px 1px 3px 1px rgba(0, 0, 0, 0.15);\n",
              "    filter: drop-shadow(0px 1px 2px rgba(0, 0, 0, 0.3));\n",
              "    fill: #FFFFFF;\n",
              "  }\n",
              "</style>\n",
              "\n",
              "    <script>\n",
              "      async function quickchart(key) {\n",
              "        const containerElement = document.querySelector('#' + key);\n",
              "        const charts = await google.colab.kernel.invokeFunction(\n",
              "            'suggestCharts', [key], {});\n",
              "      }\n",
              "    </script>\n",
              "\n",
              "      <script>\n",
              "\n",
              "function displayQuickchartButton(domScope) {\n",
              "  let quickchartButtonEl =\n",
              "    domScope.querySelector('#df-2d8fe7cd-4611-4d82-89c6-a3d7a5ff0a16 button.colab-df-quickchart');\n",
              "  quickchartButtonEl.style.display =\n",
              "    google.colab.kernel.accessAllowed ? 'block' : 'none';\n",
              "}\n",
              "\n",
              "        displayQuickchartButton(document);\n",
              "      </script>\n",
              "      <style>\n",
              "    .colab-df-container {\n",
              "      display:flex;\n",
              "      flex-wrap:wrap;\n",
              "      gap: 12px;\n",
              "    }\n",
              "\n",
              "    .colab-df-convert {\n",
              "      background-color: #E8F0FE;\n",
              "      border: none;\n",
              "      border-radius: 50%;\n",
              "      cursor: pointer;\n",
              "      display: none;\n",
              "      fill: #1967D2;\n",
              "      height: 32px;\n",
              "      padding: 0 0 0 0;\n",
              "      width: 32px;\n",
              "    }\n",
              "\n",
              "    .colab-df-convert:hover {\n",
              "      background-color: #E2EBFA;\n",
              "      box-shadow: 0px 1px 2px rgba(60, 64, 67, 0.3), 0px 1px 3px 1px rgba(60, 64, 67, 0.15);\n",
              "      fill: #174EA6;\n",
              "    }\n",
              "\n",
              "    [theme=dark] .colab-df-convert {\n",
              "      background-color: #3B4455;\n",
              "      fill: #D2E3FC;\n",
              "    }\n",
              "\n",
              "    [theme=dark] .colab-df-convert:hover {\n",
              "      background-color: #434B5C;\n",
              "      box-shadow: 0px 1px 3px 1px rgba(0, 0, 0, 0.15);\n",
              "      filter: drop-shadow(0px 1px 2px rgba(0, 0, 0, 0.3));\n",
              "      fill: #FFFFFF;\n",
              "    }\n",
              "  </style>\n",
              "\n",
              "      <script>\n",
              "        const buttonEl =\n",
              "          document.querySelector('#df-889309ac-605c-4254-b56d-b66ae2e760d8 button.colab-df-convert');\n",
              "        buttonEl.style.display =\n",
              "          google.colab.kernel.accessAllowed ? 'block' : 'none';\n",
              "\n",
              "        async function convertToInteractive(key) {\n",
              "          const element = document.querySelector('#df-889309ac-605c-4254-b56d-b66ae2e760d8');\n",
              "          const dataTable =\n",
              "            await google.colab.kernel.invokeFunction('convertToInteractive',\n",
              "                                                     [key], {});\n",
              "          if (!dataTable) return;\n",
              "\n",
              "          const docLinkHtml = 'Like what you see? Visit the ' +\n",
              "            '<a target=\"_blank\" href=https://colab.research.google.com/notebooks/data_table.ipynb>data table notebook</a>'\n",
              "            + ' to learn more about interactive tables.';\n",
              "          element.innerHTML = '';\n",
              "          dataTable['output_type'] = 'display_data';\n",
              "          await google.colab.output.renderOutput(dataTable, element);\n",
              "          const docLink = document.createElement('div');\n",
              "          docLink.innerHTML = docLinkHtml;\n",
              "          element.appendChild(docLink);\n",
              "        }\n",
              "      </script>\n",
              "    </div>\n",
              "  </div>\n"
            ]
          },
          "metadata": {},
          "execution_count": 15
        }
      ],
      "source": [
        "df_without_229"
      ]
    },
    {
      "cell_type": "code",
      "execution_count": 16,
      "id": "f9277e7a",
      "metadata": {
        "id": "f9277e7a"
      },
      "outputs": [],
      "source": [
        "df_without_229.to_csv(\"world_temperature.csv\")"
      ]
    },
    {
      "cell_type": "code",
      "execution_count": null,
      "id": "ee19858d",
      "metadata": {
        "id": "ee19858d"
      },
      "outputs": [],
      "source": []
    },
    {
      "cell_type": "code",
      "execution_count": null,
      "id": "97cbd09c",
      "metadata": {
        "id": "97cbd09c"
      },
      "outputs": [],
      "source": []
    },
    {
      "cell_type": "code",
      "execution_count": null,
      "id": "48307265",
      "metadata": {
        "id": "48307265"
      },
      "outputs": [],
      "source": []
    }
  ],
  "metadata": {
    "kernelspec": {
      "display_name": "Python 3 (ipykernel)",
      "language": "python",
      "name": "python3"
    },
    "language_info": {
      "codemirror_mode": {
        "name": "ipython",
        "version": 3
      },
      "file_extension": ".py",
      "mimetype": "text/x-python",
      "name": "python",
      "nbconvert_exporter": "python",
      "pygments_lexer": "ipython3",
      "version": "3.9.7"
    },
    "colab": {
      "provenance": []
    }
  },
  "nbformat": 4,
  "nbformat_minor": 5
}
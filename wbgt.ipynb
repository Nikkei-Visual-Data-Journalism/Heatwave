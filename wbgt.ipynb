{
 "cells": [
  {
   "cell_type": "code",
   "execution_count": 50,
   "id": "89f88364",
   "metadata": {},
   "outputs": [],
   "source": [
    "#暑さ指数\n",
    "#ソース：環境省熱中症予防サイト\n",
    "#https://www.wbgt.env.go.jp/wbgt_data.php\n",
    "\n",
    "import pandas as pd\n",
    "from datetime import datetime, date\n",
    "import requests\n",
    "\n",
    "\n",
    "#実況値のデータを取得\n",
    "yyyymm = date.today().strftime('%Y%m')\n",
    "url = f'https://www.wbgt.env.go.jp/est15WG/dl/wbgt_all_{yyyymm}.csv'\n",
    "wbgt = pd.read_csv(url)\n",
    "\n",
    "#日時データ整形\n",
    "wbgt.Time = wbgt.Time.str.replace('24:00','0:00')\n",
    "wbgt['date_dt'] = pd.to_datetime(wbgt.Date + ' ' + wbgt.Time, format='%Y/%m/%d %H:%M')\n",
    "wbgt['Date'] = pd.to_datetime(wbgt.Date)\n",
    "\n",
    "#longフォーマットに転換\n",
    "wbgt = wbgt.set_index(['Date','Time','date_dt']).rename_axis('amdno',axis=1).stack().rename('wbgt').reset_index()\n",
    "wbgt.amdno = wbgt.amdno.astype(int)\n",
    "\n",
    "#最新分のみ切り出し\n",
    "##iloc[-1]などはほぼ大丈夫ですが、絶対値で指定したほうがより安全\n",
    "wbgt_latest = wbgt.loc[wbgt.date_dt==wbgt.date_dt.max()]\n",
    "\n",
    "#地点情報を取得\n",
    "##観測地点の変更・追加などがあるとデータがおちてしまうので、元データを引っ張ったほうが\n",
    "##少しだけ長くなりますが、jsonで軽いので\n",
    "url = 'https://www.jma.go.jp/bosai/amedas/const/amedastable.json'\n",
    "r = requests.get(url)\n",
    "data = r.json()\n",
    "\n",
    "locations = pd.DataFrame.from_dict(data, orient='index').reset_index()\n",
    "locations = locations.rename(columns={'index':'amdno'})\n",
    "locations.amdno = locations.amdno.astype(int)\n",
    "#lat longを整える\n",
    "locations[['lat','lon']] = locations[['lat','lon']].applymap(lambda x: x[0] + x[1]/60)\n",
    "\n",
    "#地点情報を最新データに追加\n",
    "##how='left'で元のdataframeを保持\n",
    "wbgt_latest = wbgt_latest.merge(locations[['amdno','lat','lon','kjName']], on='amdno', how='left')\n",
    "\n",
    "#暑さ指数「日常生活に関する指針」\n",
    "##指針の内容をテキストでアサイン\n",
    "def guideline(value):\n",
    "    if value >= 31:\n",
    "        return '危険'\n",
    "    elif value >= 28:\n",
    "        return '厳重警戒'\n",
    "    elif value >= 25:\n",
    "        return '警戒'\n",
    "    else:\n",
    "        return '注意'\n",
    "wbgt_latest['guideline'] = wbgt_latest.wbgt.apply(guideline)\n",
    "\n",
    "wbgt_latest.to_csv(\"./data/wbgt.csv\", index=False)"
   ]
  },
  {
   "cell_type": "code",
   "execution_count": null,
   "id": "cf91f6f9",
   "metadata": {},
   "outputs": [],
   "source": [
    "\n",
    "#df_tempdata['amdno'] = df_tempdata['amdno'].astype(int)\n",
    "#url = 'https://raw.githubusercontent.com/hiroki-sakuragi/climate_change/main/amedastable.csv'\n",
    "#df_location_data = pd.read_csv(url)\n",
    "#df_merge = pd.merge(df_tempdata, df_location_data, on = 'amdno')\n"
   ]
  }
 ],
 "metadata": {
  "kernelspec": {
   "display_name": "python3.11.3",
   "language": "python",
   "name": "python3.11.3"
  },
  "language_info": {
   "codemirror_mode": {
    "name": "ipython",
    "version": 3
   },
   "file_extension": ".py",
   "mimetype": "text/x-python",
   "name": "python",
   "nbconvert_exporter": "python",
   "pygments_lexer": "ipython3",
   "version": "3.11.3"
  },
  "toc": {
   "base_numbering": 1,
   "nav_menu": {},
   "number_sections": true,
   "sideBar": true,
   "skip_h1_title": false,
   "title_cell": "Table of Contents",
   "title_sidebar": "Contents",
   "toc_cell": false,
   "toc_position": {},
   "toc_section_display": true,
   "toc_window_display": true
  }
 },
 "nbformat": 4,
 "nbformat_minor": 5
}

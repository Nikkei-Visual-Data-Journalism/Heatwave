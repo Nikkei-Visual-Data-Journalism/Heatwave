{
 "cells": [
  {
   "cell_type": "code",
   "execution_count": 2,
   "id": "00346921",
   "metadata": {},
   "outputs": [],
   "source": [
    "#暑さ指数\n",
    "#ソース：環境省熱中症予防サイト\n",
    "#https://www.wbgt.env.go.jp/wbgt_data.php\n",
    "\n",
    "import pandas as pd\n",
    "from datetime import datetime, date"
   ]
  },
  {
   "cell_type": "code",
   "execution_count": null,
   "id": "89f88364",
   "metadata": {},
   "outputs": [],
   "source": [
    "#実況値のデータを取得\n",
    "yyyymm = date.today().strftime('%Y%m')\n",
    "url = f'https://www.wbgt.env.go.jp/est15WG/dl/wbgt_all_{yyyymm}.csv'\n",
    "wbgt = pd.read_csv(url)\n",
    "\n",
    "#日時データ整形\n",
    "wbgt.Time = wbgt.Time.str.replace('24:00','0:00')\n",
    "wbgt['date_dt'] = pd.to_datetime(wbgt.Date + ' ' + wbgt.Time, format='%Y/%m/%d %H:%M')\n",
    "wbgt['Date'] = pd.to_datetime(wbgt.Date)\n",
    "\n",
    "#longフォーマットに転換\n",
    "wbgt = wbgt.set_index(['Date','Time','date_dt']).rename_axis('amdno',axis=1).stack().rename('wbgt').reset_index()\n",
    "wbgt.amdno = wbgt.amdno.astype(int)\n",
    "\n",
    "#最新分のみ切り出し\n",
    "##iloc[-1]などはほぼ大丈夫ですが、絶対値で指定したほうがより安全\n",
    "wbgt_latest = wbgt.loc[wbgt.date_dt==wbgt.date_dt.max()]"
   ]
  },
  {
   "cell_type": "code",
   "execution_count": null,
   "id": "b6102212",
   "metadata": {},
   "outputs": [],
   "source": [
    "wbgt_latest"
   ]
  },
  {
   "cell_type": "code",
   "execution_count": 13,
   "id": "cecaf0f8",
   "metadata": {},
   "outputs": [],
   "source": []
  },
  {
   "cell_type": "code",
   "execution_count": 18,
   "id": "d6b93712",
   "metadata": {},
   "outputs": [],
   "source": []
  },
  {
   "cell_type": "code",
   "execution_count": null,
   "id": "d05f0c70",
   "metadata": {},
   "outputs": [],
   "source": []
  },
  {
   "cell_type": "code",
   "execution_count": null,
   "id": "cf91f6f9",
   "metadata": {},
   "outputs": [],
   "source": [
    "\n",
    "\n",
    "\n",
    "# In[47]:\n",
    "\n",
    "\n",
    "df_tempdata['amdno'] = df_tempdata['amdno'].astype(int)\n",
    "\n",
    "\n",
    "# In[48]:\n",
    "#黄田さんが取得済みでaltとlonがあるdf_location_dataと、環境省が公開している暑さ指数データを合体する\n",
    "#暑さ指数データの地点数は841。df_location_dataの地点数が若干多く、841ある分に関して合体する\n",
    "#df_tempdataは気温ではなく暑さ指数。名称間違えた\n",
    "\n",
    "url = 'https://raw.githubusercontent.com/hiroki-sakuragi/climate_change/main/amedastable.csv'\n",
    "df_location_data = pd.read_csv(url)\n",
    "\n",
    "df_merge = pd.merge(df_tempdata, df_location_data, on = 'amdno')\n",
    "\n",
    "\n",
    "# In[49]:\n",
    "\n",
    "\n",
    "df_merge.to_csv(\"./data/hot_index.csv\", index = False)\n"
   ]
  }
 ],
 "metadata": {
  "kernelspec": {
   "display_name": "python3.11.3",
   "language": "python",
   "name": "python3.11.3"
  },
  "language_info": {
   "codemirror_mode": {
    "name": "ipython",
    "version": 3
   },
   "file_extension": ".py",
   "mimetype": "text/x-python",
   "name": "python",
   "nbconvert_exporter": "python",
   "pygments_lexer": "ipython3",
   "version": "3.11.3"
  },
  "toc": {
   "base_numbering": 1,
   "nav_menu": {},
   "number_sections": true,
   "sideBar": true,
   "skip_h1_title": false,
   "title_cell": "Table of Contents",
   "title_sidebar": "Contents",
   "toc_cell": false,
   "toc_position": {},
   "toc_section_display": true,
   "toc_window_display": true
  }
 },
 "nbformat": 4,
 "nbformat_minor": 5
}

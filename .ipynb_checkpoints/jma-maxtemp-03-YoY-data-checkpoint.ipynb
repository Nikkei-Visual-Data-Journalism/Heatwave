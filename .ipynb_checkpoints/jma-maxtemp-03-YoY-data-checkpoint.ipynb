{
 "cells": [
  {
   "cell_type": "code",
   "execution_count": 20,
   "id": "7d294b1a",
   "metadata": {},
   "outputs": [],
   "source": [
    "##真夏日・猛暑日の県別\n",
    "##掲載時点の同年同月を出す"
   ]
  },
  {
   "cell_type": "code",
   "execution_count": 24,
   "id": "b34696c0",
   "metadata": {},
   "outputs": [],
   "source": [
    "import pandas as pd"
   ]
  },
  {
   "cell_type": "code",
   "execution_count": 25,
   "id": "254badc1",
   "metadata": {},
   "outputs": [],
   "source": [
    "#観測地点の一覧\n",
    "url = 'https://raw.githubusercontent.com/Nikkei-Visual-Data-Journalism/Heatwave/main/data-maxtemp/meta/points_list.csv'\n",
    "points = pd.read_csv(url)"
   ]
  },
  {
   "cell_type": "code",
   "execution_count": 26,
   "id": "d17e88c7",
   "metadata": {},
   "outputs": [
    {
     "name": "stdout",
     "output_type": "stream",
     "text": [
      "47\n"
     ]
    },
    {
     "data": {
      "text/html": [
       "<div>\n",
       "<style scoped>\n",
       "    .dataframe tbody tr th:only-of-type {\n",
       "        vertical-align: middle;\n",
       "    }\n",
       "\n",
       "    .dataframe tbody tr th {\n",
       "        vertical-align: top;\n",
       "    }\n",
       "\n",
       "    .dataframe thead th {\n",
       "        text-align: right;\n",
       "    }\n",
       "</style>\n",
       "<table border=\"1\" class=\"dataframe\">\n",
       "  <thead>\n",
       "    <tr style=\"text-align: right;\">\n",
       "      <th></th>\n",
       "      <th>date</th>\n",
       "      <th>year</th>\n",
       "      <th>pref</th>\n",
       "      <th>maxtemp</th>\n",
       "      <th>maxtemp_capitol</th>\n",
       "      <th>over30</th>\n",
       "      <th>over30_capitol</th>\n",
       "      <th>over35</th>\n",
       "      <th>over35_capitol</th>\n",
       "      <th>over40</th>\n",
       "      <th>over40_capitol</th>\n",
       "      <th>count</th>\n",
       "    </tr>\n",
       "  </thead>\n",
       "  <tbody>\n",
       "    <tr>\n",
       "      <th>0</th>\n",
       "      <td>2000-01-01</td>\n",
       "      <td>2000</td>\n",
       "      <td>三重県</td>\n",
       "      <td>14.6</td>\n",
       "      <td>11.7</td>\n",
       "      <td>False</td>\n",
       "      <td>False</td>\n",
       "      <td>False</td>\n",
       "      <td>False</td>\n",
       "      <td>False</td>\n",
       "      <td>False</td>\n",
       "      <td>1</td>\n",
       "    </tr>\n",
       "    <tr>\n",
       "      <th>1</th>\n",
       "      <td>2000-01-01</td>\n",
       "      <td>2000</td>\n",
       "      <td>京都府</td>\n",
       "      <td>9.6</td>\n",
       "      <td>9.3</td>\n",
       "      <td>False</td>\n",
       "      <td>False</td>\n",
       "      <td>False</td>\n",
       "      <td>False</td>\n",
       "      <td>False</td>\n",
       "      <td>False</td>\n",
       "      <td>1</td>\n",
       "    </tr>\n",
       "    <tr>\n",
       "      <th>2</th>\n",
       "      <td>2000-01-01</td>\n",
       "      <td>2000</td>\n",
       "      <td>佐賀県</td>\n",
       "      <td>16.9</td>\n",
       "      <td>16.3</td>\n",
       "      <td>False</td>\n",
       "      <td>False</td>\n",
       "      <td>False</td>\n",
       "      <td>False</td>\n",
       "      <td>False</td>\n",
       "      <td>False</td>\n",
       "      <td>1</td>\n",
       "    </tr>\n",
       "    <tr>\n",
       "      <th>3</th>\n",
       "      <td>2000-01-01</td>\n",
       "      <td>2000</td>\n",
       "      <td>兵庫県</td>\n",
       "      <td>12.5</td>\n",
       "      <td>11.2</td>\n",
       "      <td>False</td>\n",
       "      <td>False</td>\n",
       "      <td>False</td>\n",
       "      <td>False</td>\n",
       "      <td>False</td>\n",
       "      <td>False</td>\n",
       "      <td>1</td>\n",
       "    </tr>\n",
       "    <tr>\n",
       "      <th>4</th>\n",
       "      <td>2000-01-01</td>\n",
       "      <td>2000</td>\n",
       "      <td>北海道</td>\n",
       "      <td>2.7</td>\n",
       "      <td>-0.7</td>\n",
       "      <td>False</td>\n",
       "      <td>False</td>\n",
       "      <td>False</td>\n",
       "      <td>False</td>\n",
       "      <td>False</td>\n",
       "      <td>False</td>\n",
       "      <td>1</td>\n",
       "    </tr>\n",
       "  </tbody>\n",
       "</table>\n",
       "</div>"
      ],
      "text/plain": [
       "         date  year pref  maxtemp  maxtemp_capitol  over30  over30_capitol   \n",
       "0  2000-01-01  2000  三重県     14.6             11.7   False           False  \\\n",
       "1  2000-01-01  2000  京都府      9.6              9.3   False           False   \n",
       "2  2000-01-01  2000  佐賀県     16.9             16.3   False           False   \n",
       "3  2000-01-01  2000  兵庫県     12.5             11.2   False           False   \n",
       "4  2000-01-01  2000  北海道      2.7             -0.7   False           False   \n",
       "\n",
       "   over35  over35_capitol  over40  over40_capitol  count  \n",
       "0   False           False   False           False      1  \n",
       "1   False           False   False           False      1  \n",
       "2   False           False   False           False      1  \n",
       "3   False           False   False           False      1  \n",
       "4   False           False   False           False      1  "
      ]
     },
     "execution_count": 26,
     "metadata": {},
     "output_type": "execute_result"
    }
   ],
   "source": [
    "#県別の気温（真夏日・猛暑日）、過去分のデータを呼び出し\n",
    "url = \"./data-maxtemp/timeseries-data/jma-maxtemp-temp-by-pref-ts.csv\"\n",
    "by_pref = pd.read_csv(url)\n",
    "\n",
    "#確認\n",
    "print(by_pref.pref.nunique())\n",
    "\n",
    "by_pref.head()"
   ]
  },
  {
   "cell_type": "code",
   "execution_count": null,
   "id": "b4ebbb6d",
   "metadata": {},
   "outputs": [],
   "source": [
    "by_pref"
   ]
  },
  {
   "cell_type": "code",
   "execution_count": 18,
   "id": "8b029b3c",
   "metadata": {},
   "outputs": [],
   "source": [
    "#最新データを呼び出し"
   ]
  },
  {
   "cell_type": "code",
   "execution_count": null,
   "id": "3efeab3e",
   "metadata": {},
   "outputs": [],
   "source": []
  }
 ],
 "metadata": {
  "kernelspec": {
   "display_name": "python3.11.3",
   "language": "python",
   "name": "python3.11.3"
  },
  "language_info": {
   "codemirror_mode": {
    "name": "ipython",
    "version": 3
   },
   "file_extension": ".py",
   "mimetype": "text/x-python",
   "name": "python",
   "nbconvert_exporter": "python",
   "pygments_lexer": "ipython3",
   "version": "3.11.3"
  },
  "toc": {
   "base_numbering": 1,
   "nav_menu": {},
   "number_sections": true,
   "sideBar": true,
   "skip_h1_title": false,
   "title_cell": "Table of Contents",
   "title_sidebar": "Contents",
   "toc_cell": false,
   "toc_position": {},
   "toc_section_display": true,
   "toc_window_display": true
  }
 },
 "nbformat": 4,
 "nbformat_minor": 5
}

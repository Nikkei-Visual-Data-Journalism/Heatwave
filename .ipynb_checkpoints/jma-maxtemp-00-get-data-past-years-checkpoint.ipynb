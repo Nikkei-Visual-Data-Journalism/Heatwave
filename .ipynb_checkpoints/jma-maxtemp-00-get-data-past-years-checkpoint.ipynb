{
 "cells": [
  {
   "cell_type": "code",
   "execution_count": null,
   "id": "765bbc8d",
   "metadata": {},
   "outputs": [],
   "source": []
  },
  {
   "cell_type": "code",
   "execution_count": null,
   "id": "d2dc6a86",
   "metadata": {},
   "outputs": [],
   "source": [
    "df['date'] = df[['観測時刻(年)','観測時刻(月)','観測時刻(日)']].apply(\n",
    "    lambda row: '-'.join(row.map(lambda x: str(x).zfill(2))), axis=1\n",
    ")\n",
    "df['date'] = pd.to_datetime(df['date'], format='%Y-%m-%d')"
   ]
  },
  {
   "cell_type": "code",
   "execution_count": null,
   "id": "b594002d",
   "metadata": {},
   "outputs": [],
   "source": [
    "df['heat_ex'] = df.maxtemp.astype(float)>=35\n",
    "df['heat'] = df.maxtemp.astype(float)>=30\n",
    "\n",
    "df['heat_ex_prev1'] = df.maxtemp_prev1.astype(float)>=35\n",
    "df['heat_prev1'] = df.maxtemp_prev1.astype(float)>=30\n",
    "\n",
    "df['heat_ex_prev2'] = df.maxtemp_prev2.astype(float)>=35\n",
    "df['heat_prev2'] = df.maxtemp_prev2.astype(float)>=30"
   ]
  },
  {
   "cell_type": "code",
   "execution_count": null,
   "id": "c6485a43",
   "metadata": {},
   "outputs": [],
   "source": [
    "df.groupby('date')[['heat_ex','heat','heat_ex_prev1','heat_prev1','heat_ex_prev2','heat_prev2']].sum()"
   ]
  },
  {
   "cell_type": "code",
   "execution_count": null,
   "id": "87f062b5",
   "metadata": {},
   "outputs": [],
   "source": [
    "#最新データの取得\n",
    "#日付が変わると対象日も変わる\n",
    "url = 'https://www.data.jma.go.jp/stats/data/mdrr/tem_rct/alltable/mxtemsadext00_rct.csv'\n",
    "data = pd.read_csv(url, encoding='Shift-JIS')"
   ]
  },
  {
   "cell_type": "code",
   "execution_count": null,
   "id": "5a1a9d71",
   "metadata": {},
   "outputs": [],
   "source": [
    "#前年を取得\n",
    "\n",
    "url = 'https://www.data.jma.go.jp/obd/stats/etrn/view/temp/2022_hp.csv'\n",
    "heatpoint_2022 = pd.read_csv(url, encoding='shift_jis')"
   ]
  },
  {
   "cell_type": "code",
   "execution_count": null,
   "id": "26e6feb8",
   "metadata": {},
   "outputs": [],
   "source": [
    "#column名をきれいにする\n",
    "rename_dict = {col: '真夏日' if '真夏日' in col else ('猛暑日' if '猛暑日' in col else col) for col in heatpoint_2022.columns}\n",
    "rename_dict.update({'年月日':'date'})\n",
    "heatpoint_2022 = heatpoint_2022.rename(columns=rename_dict)\n",
    "#日付変換\n",
    "heatpoint_2022.date = pd.to_datetime(heatpoint_2022.date)"
   ]
  },
  {
   "cell_type": "code",
   "execution_count": null,
   "id": "c4b4ef50",
   "metadata": {},
   "outputs": [],
   "source": []
  },
  {
   "cell_type": "code",
   "execution_count": null,
   "id": "ca094105",
   "metadata": {},
   "outputs": [],
   "source": []
  },
  {
   "cell_type": "code",
   "execution_count": null,
   "id": "9f0707b2",
   "metadata": {},
   "outputs": [],
   "source": []
  },
  {
   "cell_type": "code",
   "execution_count": null,
   "id": "fcd999dd",
   "metadata": {},
   "outputs": [],
   "source": []
  },
  {
   "cell_type": "code",
   "execution_count": null,
   "id": "effbcf89",
   "metadata": {},
   "outputs": [],
   "source": []
  },
  {
   "cell_type": "code",
   "execution_count": null,
   "id": "e376aa80",
   "metadata": {},
   "outputs": [],
   "source": []
  },
  {
   "cell_type": "code",
   "execution_count": 36,
   "id": "9968418e",
   "metadata": {},
   "outputs": [],
   "source": [
    "#気象庁\n",
    "#過去7日間の最高気温のデータを取得するコード\n",
    "#https://www.data.jma.go.jp/stats/data/mdrr/docs/csv_dl_readme.html\n",
    "#ウェブ上のデータは毎日5:00ごろ更新＋修正は13:00、19:00、翌日1:00ごろの更新で反映\n",
    "\n",
    "import pandas as pd\n",
    "import re\n",
    "\n",
    "#データを取得してファイル名に日付を入れて保存\n",
    "def get_previous_data(d):\n",
    "    url = f'https://www.data.jma.go.jp/obd/stats/data/mdrr/tem_rct/alltable/mxtemsadext0{d}.csv'\n",
    "    data = pd.read_csv(url, encoding='Shift-JIS')\n",
    "\n",
    "    yyyymmdd = f\"{data['観測時刻(年)'][0]}{data.loc[0,['観測時刻(月)','観測時刻(日)']].apply(lambda x: str(x).zfill(2)).sum()}\"\n",
    "    file_name = f\"./data-ts-maxtemp/jma-maxtemp-{yyyymmdd}.csv\"\n",
    "    data['date'] = pd.to_datetime(yyyymmdd, format='%Y%m%d')\n",
    "    #出力\n",
    "    data.to_csv(file_name, index=False)\n",
    "    return data\n",
    "\n",
    "\n",
    "#実行\n",
    "past_7days = pd.DataFrame()\n",
    "\n",
    "for d in range(1, 8):\n",
    "    #csvに出力、データを取得\n",
    "    new_data = get_previous_data(d)\n",
    "    ##最高気温のカラム名を統一\n",
    "    ##col名：1日前＝昨日の~、2日前=一昨日の~、3日以上前=xx日の最高気温(℃)\n",
    "    rename_dic = {col:'max_temp' for col in new_data.columns if '日の最高気温(℃)' in col}\n",
    "    new_data = new_data.rename(columns=rename_dic)\n",
    "    #統合\n",
    "    past_7days = pd.concat([past_7days,new_data])\n",
    "    \n",
    "#計算\n",
    "##真夏・猛暑日を数える"
   ]
  },
  {
   "cell_type": "code",
   "execution_count": 38,
   "id": "e8d229cd",
   "metadata": {
    "scrolled": true
   },
   "outputs": [],
   "source": [
    "past_7days['above35'] = past_7days.max_temp.apply(lambda x: x>=35)\n",
    "past_7days['above30'] = past_7days.max_temp.apply(lambda x: x>=30)"
   ]
  },
  {
   "cell_type": "code",
   "execution_count": 41,
   "id": "7262414e",
   "metadata": {},
   "outputs": [
    {
     "data": {
      "text/html": [
       "<div>\n",
       "<style scoped>\n",
       "    .dataframe tbody tr th:only-of-type {\n",
       "        vertical-align: middle;\n",
       "    }\n",
       "\n",
       "    .dataframe tbody tr th {\n",
       "        vertical-align: top;\n",
       "    }\n",
       "\n",
       "    .dataframe thead th {\n",
       "        text-align: right;\n",
       "    }\n",
       "</style>\n",
       "<table border=\"1\" class=\"dataframe\">\n",
       "  <thead>\n",
       "    <tr style=\"text-align: right;\">\n",
       "      <th></th>\n",
       "      <th>above35</th>\n",
       "      <th>above30</th>\n",
       "    </tr>\n",
       "    <tr>\n",
       "      <th>date</th>\n",
       "      <th></th>\n",
       "      <th></th>\n",
       "    </tr>\n",
       "  </thead>\n",
       "  <tbody>\n",
       "    <tr>\n",
       "      <th>2023-07-22</th>\n",
       "      <td>25</td>\n",
       "      <td>577</td>\n",
       "    </tr>\n",
       "    <tr>\n",
       "      <th>2023-07-23</th>\n",
       "      <td>38</td>\n",
       "      <td>652</td>\n",
       "    </tr>\n",
       "    <tr>\n",
       "      <th>2023-07-24</th>\n",
       "      <td>88</td>\n",
       "      <td>714</td>\n",
       "    </tr>\n",
       "    <tr>\n",
       "      <th>2023-07-25</th>\n",
       "      <td>167</td>\n",
       "      <td>778</td>\n",
       "    </tr>\n",
       "    <tr>\n",
       "      <th>2023-07-26</th>\n",
       "      <td>226</td>\n",
       "      <td>807</td>\n",
       "    </tr>\n",
       "    <tr>\n",
       "      <th>2023-07-27</th>\n",
       "      <td>251</td>\n",
       "      <td>804</td>\n",
       "    </tr>\n",
       "    <tr>\n",
       "      <th>2023-07-28</th>\n",
       "      <td>233</td>\n",
       "      <td>835</td>\n",
       "    </tr>\n",
       "  </tbody>\n",
       "</table>\n",
       "</div>"
      ],
      "text/plain": [
       "            above35  above30\n",
       "date                        \n",
       "2023-07-22       25      577\n",
       "2023-07-23       38      652\n",
       "2023-07-24       88      714\n",
       "2023-07-25      167      778\n",
       "2023-07-26      226      807\n",
       "2023-07-27      251      804\n",
       "2023-07-28      233      835"
      ]
     },
     "execution_count": 41,
     "metadata": {},
     "output_type": "execute_result"
    }
   ],
   "source": [
    "past_7days.groupby('date')[['above35','above30']].sum()"
   ]
  },
  {
   "cell_type": "code",
   "execution_count": 14,
   "id": "18ec5e67",
   "metadata": {},
   "outputs": [],
   "source": [
    "#\n",
    "\n",
    "\n",
    "\n",
    "\n",
    "\n",
    "\n"
   ]
  },
  {
   "cell_type": "code",
   "execution_count": null,
   "id": "dd465798",
   "metadata": {},
   "outputs": [],
   "source": []
  }
 ],
 "metadata": {
  "kernelspec": {
   "display_name": "python3.11.3",
   "language": "python",
   "name": "python3.11.3"
  },
  "language_info": {
   "codemirror_mode": {
    "name": "ipython",
    "version": 3
   },
   "file_extension": ".py",
   "mimetype": "text/x-python",
   "name": "python",
   "nbconvert_exporter": "python",
   "pygments_lexer": "ipython3",
   "version": "3.11.3"
  },
  "toc": {
   "base_numbering": 1,
   "nav_menu": {},
   "number_sections": true,
   "sideBar": true,
   "skip_h1_title": false,
   "title_cell": "Table of Contents",
   "title_sidebar": "Contents",
   "toc_cell": false,
   "toc_position": {},
   "toc_section_display": true,
   "toc_window_display": true
  }
 },
 "nbformat": 4,
 "nbformat_minor": 5
}

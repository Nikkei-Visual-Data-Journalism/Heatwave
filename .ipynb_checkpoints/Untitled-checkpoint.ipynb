{
 "cells": [
  {
   "cell_type": "code",
   "execution_count": 83,
   "id": "cc4cabc1",
   "metadata": {},
   "outputs": [],
   "source": [
    "import pandas as pd\n",
    "from datetime import datetime, date\n",
    "\n",
    "# 過去データ\n",
    "filepath = './data-tokyo/1963_2022_all_202306only.csv'\n",
    "past_data = pd.read_csv(filepath, parse_dates =['date'])\n",
    "\n",
    "#最新データ\n",
    "filepath = './data-maxtemp/timeseries-data/jma-maxtemp-heatpoints-by-pref-daily.csv'\n",
    "latest = pd.read_csv(filepath, parse_dates=['date'])\n",
    "#必要箇所を抜粋\n",
    "latest = latest.loc[(latest.pref=='東京都'),['date','maxtemp_capitol','year']]\n",
    "latest = latest.rename(columns={'maxtemp_capitol':'max'})\n",
    "\n",
    "#統合\n",
    "tokyo = pd.concat([past_data, latest])\n",
    "#重複削除\n",
    "tokyo = tokyo[~tokyo.duplicated(subset=['date'], keep='last')]\n",
    "\n",
    "#日付\n",
    "#（不要分もあるがあとで整理）\n",
    "#念のため抜け漏れを埋める\n",
    "dates_ = pd.date_range(tokyo.date.min(), tokyo.date.max())\n",
    "dates_ = [d for d in dates_ if (d.month>5) & (d.month<10)]\n",
    "tokyo = tokyo.set_index('date').reindex(dates_).rename_axis('date').reset_index()\n",
    "#フォーマット\n",
    "tokyo.month = tokyo.date.dt.month\n",
    "tokyo.day = tokyo.date.dt.day\n",
    "tokyo.month_day = tokyo.date.dt.strftime('%m-%d')\n",
    "tokyo['month_day_flourish'] = tokyo.date.dt.strftime('%-m/%-d')\n",
    "\n",
    "# 保存\n",
    "tokyo.to_csv('./data-tokyo/tokyo_max_temp.csv')"
   ]
  }
 ],
 "metadata": {
  "kernelspec": {
   "display_name": "python3.11.3",
   "language": "python",
   "name": "python3.11.3"
  },
  "language_info": {
   "codemirror_mode": {
    "name": "ipython",
    "version": 3
   },
   "file_extension": ".py",
   "mimetype": "text/x-python",
   "name": "python",
   "nbconvert_exporter": "python",
   "pygments_lexer": "ipython3",
   "version": "3.11.3"
  },
  "toc": {
   "base_numbering": 1,
   "nav_menu": {},
   "number_sections": true,
   "sideBar": true,
   "skip_h1_title": false,
   "title_cell": "Table of Contents",
   "title_sidebar": "Contents",
   "toc_cell": false,
   "toc_position": {},
   "toc_section_display": true,
   "toc_window_display": true
  }
 },
 "nbformat": 4,
 "nbformat_minor": 5
}

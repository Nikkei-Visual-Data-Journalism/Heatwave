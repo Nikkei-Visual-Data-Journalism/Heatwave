{
 "cells": [
  {
   "cell_type": "code",
   "execution_count": 90,
   "id": "ca7c51d2",
   "metadata": {},
   "outputs": [],
   "source": [
    "import requests\n",
    "import pandas as pd\n",
    "import numpy as np"
   ]
  },
  {
   "cell_type": "code",
   "execution_count": 91,
   "id": "7e762117",
   "metadata": {},
   "outputs": [],
   "source": [
    "url = 'https://climatereanalyzer.org/clim/t2_daily/json/cfsr_world_t2_day.json'"
   ]
  },
  {
   "cell_type": "code",
   "execution_count": 92,
   "id": "565bb8fe",
   "metadata": {},
   "outputs": [],
   "source": [
    "response = requests.get(url)"
   ]
  },
  {
   "cell_type": "code",
   "execution_count": 93,
   "id": "5a1bde2c",
   "metadata": {},
   "outputs": [],
   "source": [
    "data = response.json()"
   ]
  },
  {
   "cell_type": "code",
   "execution_count": 94,
   "id": "de562a03",
   "metadata": {},
   "outputs": [],
   "source": [
    "df_data = pd.DataFrame(data)"
   ]
  },
  {
   "cell_type": "code",
   "execution_count": 95,
   "id": "90f073d3",
   "metadata": {},
   "outputs": [],
   "source": [
    "#1979-2023のデータフレームに\n",
    "#2024になったらエラー発生見込み\n",
    "\n",
    "df_data = df_data.iloc[0:45]"
   ]
  },
  {
   "cell_type": "code",
   "execution_count": 96,
   "id": "c663fdc8",
   "metadata": {},
   "outputs": [],
   "source": [
    "dates = pd.date_range(start='1979-01-01', end='2023-12-31')\n",
    "\n",
    "# 月と日を取り出して文字列に変換し、連結する\n",
    "month_day = dates.month.astype(str) + '/' + dates.day.astype(str)\n",
    "\n",
    "# 年を取り出す\n",
    "year = dates.year\n",
    "\n",
    "# 新たなデータフレームを作成\n",
    "df = pd.DataFrame({\n",
    "    'date': month_day,\n",
    "    'year': year\n",
    "})"
   ]
  },
  {
   "cell_type": "code",
   "execution_count": 97,
   "id": "99ced6ed",
   "metadata": {},
   "outputs": [],
   "source": [
    "temp = []"
   ]
  },
  {
   "cell_type": "code",
   "execution_count": 98,
   "id": "b4126999",
   "metadata": {},
   "outputs": [],
   "source": [
    "#閏年でない年は、最後にnoneが入っているから取り除く必要あり\n",
    "\n",
    "for i in range(45):\n",
    "    list_with_none = df_data.data[i]\n",
    "    list_without_none = [x for x in list_with_none if x is not None]\n",
    "    for k in range(len(list_without_none)):\n",
    "        temp.append(round(list_without_none[k], 2))"
   ]
  },
  {
   "cell_type": "code",
   "execution_count": 99,
   "id": "98ef8aa9",
   "metadata": {},
   "outputs": [],
   "source": [
    "#temp列をNaNで埋める\n",
    "\n",
    "df['temp'] = pd.Series(np.nan, index = df.index)"
   ]
  },
  {
   "cell_type": "code",
   "execution_count": 100,
   "id": "85096a76",
   "metadata": {},
   "outputs": [],
   "source": [
    "#あるだけtempデータを入れる\n",
    "\n",
    "df.loc[df.index[:len(temp)], 'temp'] = temp"
   ]
  },
  {
   "cell_type": "code",
   "execution_count": 101,
   "id": "7f2b09b0",
   "metadata": {},
   "outputs": [],
   "source": [
    "df = df.dropna()"
   ]
  },
  {
   "cell_type": "code",
   "execution_count": 102,
   "id": "e7a37a65",
   "metadata": {},
   "outputs": [
    {
     "data": {
      "text/html": [
       "<div>\n",
       "<style scoped>\n",
       "    .dataframe tbody tr th:only-of-type {\n",
       "        vertical-align: middle;\n",
       "    }\n",
       "\n",
       "    .dataframe tbody tr th {\n",
       "        vertical-align: top;\n",
       "    }\n",
       "\n",
       "    .dataframe thead th {\n",
       "        text-align: right;\n",
       "    }\n",
       "</style>\n",
       "<table border=\"1\" class=\"dataframe\">\n",
       "  <thead>\n",
       "    <tr style=\"text-align: right;\">\n",
       "      <th></th>\n",
       "      <th>date</th>\n",
       "      <th>year</th>\n",
       "      <th>temp</th>\n",
       "    </tr>\n",
       "  </thead>\n",
       "  <tbody>\n",
       "    <tr>\n",
       "      <th>0</th>\n",
       "      <td>1/1</td>\n",
       "      <td>1979</td>\n",
       "      <td>12.31</td>\n",
       "    </tr>\n",
       "    <tr>\n",
       "      <th>1</th>\n",
       "      <td>1/2</td>\n",
       "      <td>1979</td>\n",
       "      <td>12.29</td>\n",
       "    </tr>\n",
       "    <tr>\n",
       "      <th>2</th>\n",
       "      <td>1/3</td>\n",
       "      <td>1979</td>\n",
       "      <td>12.27</td>\n",
       "    </tr>\n",
       "    <tr>\n",
       "      <th>3</th>\n",
       "      <td>1/4</td>\n",
       "      <td>1979</td>\n",
       "      <td>12.23</td>\n",
       "    </tr>\n",
       "    <tr>\n",
       "      <th>4</th>\n",
       "      <td>1/5</td>\n",
       "      <td>1979</td>\n",
       "      <td>12.27</td>\n",
       "    </tr>\n",
       "    <tr>\n",
       "      <th>...</th>\n",
       "      <td>...</td>\n",
       "      <td>...</td>\n",
       "      <td>...</td>\n",
       "    </tr>\n",
       "    <tr>\n",
       "      <th>16271</th>\n",
       "      <td>7/20</td>\n",
       "      <td>2023</td>\n",
       "      <td>17.12</td>\n",
       "    </tr>\n",
       "    <tr>\n",
       "      <th>16272</th>\n",
       "      <td>7/21</td>\n",
       "      <td>2023</td>\n",
       "      <td>17.11</td>\n",
       "    </tr>\n",
       "    <tr>\n",
       "      <th>16273</th>\n",
       "      <td>7/22</td>\n",
       "      <td>2023</td>\n",
       "      <td>17.10</td>\n",
       "    </tr>\n",
       "    <tr>\n",
       "      <th>16274</th>\n",
       "      <td>7/23</td>\n",
       "      <td>2023</td>\n",
       "      <td>17.08</td>\n",
       "    </tr>\n",
       "    <tr>\n",
       "      <th>16275</th>\n",
       "      <td>7/24</td>\n",
       "      <td>2023</td>\n",
       "      <td>17.08</td>\n",
       "    </tr>\n",
       "  </tbody>\n",
       "</table>\n",
       "<p>16276 rows × 3 columns</p>\n",
       "</div>"
      ],
      "text/plain": [
       "       date  year   temp\n",
       "0       1/1  1979  12.31\n",
       "1       1/2  1979  12.29\n",
       "2       1/3  1979  12.27\n",
       "3       1/4  1979  12.23\n",
       "4       1/5  1979  12.27\n",
       "...     ...   ...    ...\n",
       "16271  7/20  2023  17.12\n",
       "16272  7/21  2023  17.11\n",
       "16273  7/22  2023  17.10\n",
       "16274  7/23  2023  17.08\n",
       "16275  7/24  2023  17.08\n",
       "\n",
       "[16276 rows x 3 columns]"
      ]
     },
     "execution_count": 102,
     "metadata": {},
     "output_type": "execute_result"
    }
   ],
   "source": [
    "df"
   ]
  },
  {
   "cell_type": "code",
   "execution_count": 103,
   "id": "7b24a8dc",
   "metadata": {},
   "outputs": [],
   "source": [
    "df_without_229 = df[~df['date'].str.contains('^2/29$', regex=True)]"
   ]
  },
  {
   "cell_type": "code",
   "execution_count": 105,
   "id": "f9277e7a",
   "metadata": {},
   "outputs": [],
   "source": [
    "df_without_229.to_csv(\"world_temperature.csv\")"
   ]
  },
  {
   "cell_type": "code",
   "execution_count": null,
   "id": "ee19858d",
   "metadata": {},
   "outputs": [],
   "source": []
  },
  {
   "cell_type": "code",
   "execution_count": null,
   "id": "97cbd09c",
   "metadata": {},
   "outputs": [],
   "source": []
  },
  {
   "cell_type": "code",
   "execution_count": null,
   "id": "48307265",
   "metadata": {},
   "outputs": [],
   "source": []
  }
 ],
 "metadata": {
  "kernelspec": {
   "display_name": "Python 3 (ipykernel)",
   "language": "python",
   "name": "python3"
  },
  "language_info": {
   "codemirror_mode": {
    "name": "ipython",
    "version": 3
   },
   "file_extension": ".py",
   "mimetype": "text/x-python",
   "name": "python",
   "nbconvert_exporter": "python",
   "pygments_lexer": "ipython3",
   "version": "3.9.7"
  }
 },
 "nbformat": 4,
 "nbformat_minor": 5
}

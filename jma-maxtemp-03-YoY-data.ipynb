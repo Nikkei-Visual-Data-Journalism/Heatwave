{
 "cells": [
  {
   "cell_type": "markdown",
   "id": "e027485f",
   "metadata": {},
   "source": [
    "# jma-maxtemp-04-YoY-data"
   ]
  },
  {
   "cell_type": "markdown",
   "id": "8b6a05d4",
   "metadata": {},
   "source": [
    "* 定期実行\n",
    "* 作業内容\n",
    "    * 真夏日・猛暑日の県別データを呼び出し\n",
    "    * 過去分と直近分を統合\n",
    "    * 掲載時点の同年同月を出す"
   ]
  },
  {
   "cell_type": "code",
   "execution_count": 35,
   "id": "b34696c0",
   "metadata": {},
   "outputs": [],
   "source": [
    "import pandas as pd\n",
    "import glob"
   ]
  },
  {
   "cell_type": "code",
   "execution_count": 36,
   "id": "254badc1",
   "metadata": {},
   "outputs": [],
   "source": [
    "#観測地点の一覧\n",
    "url = 'https://raw.githubusercontent.com/Nikkei-Visual-Data-Journalism/Heatwave/main/data-maxtemp/meta/points_list.csv'\n",
    "points = pd.read_csv(url)"
   ]
  },
  {
   "cell_type": "markdown",
   "id": "a89d605e",
   "metadata": {},
   "source": [
    "県別の気温（真夏日・猛暑日）、過去分のデータを呼び出し"
   ]
  },
  {
   "cell_type": "code",
   "execution_count": 38,
   "id": "d17e88c7",
   "metadata": {},
   "outputs": [],
   "source": [
    "url = \"./data-maxtemp/timeseries-data/jma-maxtemp-temp-by-pref-ts.csv\"\n",
    "by_pref = pd.read_csv(url)"
   ]
  },
  {
   "cell_type": "code",
   "execution_count": 39,
   "id": "4bc0da83",
   "metadata": {},
   "outputs": [
    {
     "data": {
      "text/plain": [
       "47"
      ]
     },
     "execution_count": 39,
     "metadata": {},
     "output_type": "execute_result"
    }
   ],
   "source": [
    "#確認\n",
    "by_pref.pref.nunique()"
   ]
  },
  {
   "cell_type": "code",
   "execution_count": 66,
   "id": "f81211a3",
   "metadata": {},
   "outputs": [],
   "source": []
  },
  {
   "cell_type": "code",
   "execution_count": 68,
   "id": "2dee0051",
   "metadata": {},
   "outputs": [
    {
     "data": {
      "text/html": [
       "<div>\n",
       "<style scoped>\n",
       "    .dataframe tbody tr th:only-of-type {\n",
       "        vertical-align: middle;\n",
       "    }\n",
       "\n",
       "    .dataframe tbody tr th {\n",
       "        vertical-align: top;\n",
       "    }\n",
       "\n",
       "    .dataframe thead th {\n",
       "        text-align: right;\n",
       "    }\n",
       "</style>\n",
       "<table border=\"1\" class=\"dataframe\">\n",
       "  <thead>\n",
       "    <tr style=\"text-align: right;\">\n",
       "      <th></th>\n",
       "      <th>date</th>\n",
       "      <th>year</th>\n",
       "      <th>pref</th>\n",
       "      <th>maxtemp</th>\n",
       "      <th>maxtemp_capitol</th>\n",
       "      <th>over30</th>\n",
       "      <th>over30_capitol</th>\n",
       "      <th>over35</th>\n",
       "      <th>over35_capitol</th>\n",
       "      <th>over40</th>\n",
       "      <th>over40_capitol</th>\n",
       "    </tr>\n",
       "  </thead>\n",
       "  <tbody>\n",
       "    <tr>\n",
       "      <th>4</th>\n",
       "      <td>2000-01-01</td>\n",
       "      <td>2000</td>\n",
       "      <td>北海道</td>\n",
       "      <td>2.7</td>\n",
       "      <td>-0.7</td>\n",
       "      <td>False</td>\n",
       "      <td>False</td>\n",
       "      <td>False</td>\n",
       "      <td>False</td>\n",
       "      <td>False</td>\n",
       "      <td>False</td>\n",
       "    </tr>\n",
       "    <tr>\n",
       "      <th>41</th>\n",
       "      <td>2000-01-01</td>\n",
       "      <td>2000</td>\n",
       "      <td>青森県</td>\n",
       "      <td>3.9</td>\n",
       "      <td>2.1</td>\n",
       "      <td>False</td>\n",
       "      <td>False</td>\n",
       "      <td>False</td>\n",
       "      <td>False</td>\n",
       "      <td>False</td>\n",
       "      <td>False</td>\n",
       "    </tr>\n",
       "    <tr>\n",
       "      <th>36</th>\n",
       "      <td>2000-01-01</td>\n",
       "      <td>2000</td>\n",
       "      <td>秋田県</td>\n",
       "      <td>6.5</td>\n",
       "      <td>4.0</td>\n",
       "      <td>False</td>\n",
       "      <td>False</td>\n",
       "      <td>False</td>\n",
       "      <td>False</td>\n",
       "      <td>False</td>\n",
       "      <td>False</td>\n",
       "    </tr>\n",
       "    <tr>\n",
       "      <th>19</th>\n",
       "      <td>2000-01-01</td>\n",
       "      <td>2000</td>\n",
       "      <td>岩手県</td>\n",
       "      <td>6.0</td>\n",
       "      <td>4.7</td>\n",
       "      <td>False</td>\n",
       "      <td>False</td>\n",
       "      <td>False</td>\n",
       "      <td>False</td>\n",
       "      <td>False</td>\n",
       "      <td>False</td>\n",
       "    </tr>\n",
       "    <tr>\n",
       "      <th>11</th>\n",
       "      <td>2000-01-01</td>\n",
       "      <td>2000</td>\n",
       "      <td>宮城県</td>\n",
       "      <td>8.6</td>\n",
       "      <td>6.8</td>\n",
       "      <td>False</td>\n",
       "      <td>False</td>\n",
       "      <td>False</td>\n",
       "      <td>False</td>\n",
       "      <td>False</td>\n",
       "      <td>False</td>\n",
       "    </tr>\n",
       "    <tr>\n",
       "      <th>...</th>\n",
       "      <td>...</td>\n",
       "      <td>...</td>\n",
       "      <td>...</td>\n",
       "      <td>...</td>\n",
       "      <td>...</td>\n",
       "      <td>...</td>\n",
       "      <td>...</td>\n",
       "      <td>...</td>\n",
       "      <td>...</td>\n",
       "      <td>...</td>\n",
       "      <td>...</td>\n",
       "    </tr>\n",
       "    <tr>\n",
       "      <th>405095</th>\n",
       "      <td>2023-08-07</td>\n",
       "      <td>2023</td>\n",
       "      <td>佐賀県</td>\n",
       "      <td>36.8</td>\n",
       "      <td>34.3</td>\n",
       "      <td>True</td>\n",
       "      <td>True</td>\n",
       "      <td>True</td>\n",
       "      <td>False</td>\n",
       "      <td>False</td>\n",
       "      <td>False</td>\n",
       "    </tr>\n",
       "    <tr>\n",
       "      <th>405123</th>\n",
       "      <td>2023-08-07</td>\n",
       "      <td>2023</td>\n",
       "      <td>熊本県</td>\n",
       "      <td>37.9</td>\n",
       "      <td>35.2</td>\n",
       "      <td>True</td>\n",
       "      <td>True</td>\n",
       "      <td>True</td>\n",
       "      <td>True</td>\n",
       "      <td>False</td>\n",
       "      <td>False</td>\n",
       "    </tr>\n",
       "    <tr>\n",
       "      <th>405105</th>\n",
       "      <td>2023-08-07</td>\n",
       "      <td>2023</td>\n",
       "      <td>宮崎県</td>\n",
       "      <td>31.9</td>\n",
       "      <td>30.7</td>\n",
       "      <td>True</td>\n",
       "      <td>True</td>\n",
       "      <td>False</td>\n",
       "      <td>False</td>\n",
       "      <td>False</td>\n",
       "      <td>False</td>\n",
       "    </tr>\n",
       "    <tr>\n",
       "      <th>405139</th>\n",
       "      <td>2023-08-07</td>\n",
       "      <td>2023</td>\n",
       "      <td>鹿児島県</td>\n",
       "      <td>35.1</td>\n",
       "      <td>31.8</td>\n",
       "      <td>True</td>\n",
       "      <td>True</td>\n",
       "      <td>True</td>\n",
       "      <td>False</td>\n",
       "      <td>False</td>\n",
       "      <td>False</td>\n",
       "    </tr>\n",
       "    <tr>\n",
       "      <th>405121</th>\n",
       "      <td>2023-08-07</td>\n",
       "      <td>2023</td>\n",
       "      <td>沖縄県</td>\n",
       "      <td>33.3</td>\n",
       "      <td>28.6</td>\n",
       "      <td>True</td>\n",
       "      <td>False</td>\n",
       "      <td>False</td>\n",
       "      <td>False</td>\n",
       "      <td>False</td>\n",
       "      <td>False</td>\n",
       "    </tr>\n",
       "  </tbody>\n",
       "</table>\n",
       "<p>405140 rows × 11 columns</p>\n",
       "</div>"
      ],
      "text/plain": [
       "              date  year  pref  maxtemp  maxtemp_capitol  over30   \n",
       "4       2000-01-01  2000   北海道      2.7             -0.7   False  \\\n",
       "41      2000-01-01  2000   青森県      3.9              2.1   False   \n",
       "36      2000-01-01  2000   秋田県      6.5              4.0   False   \n",
       "19      2000-01-01  2000   岩手県      6.0              4.7   False   \n",
       "11      2000-01-01  2000   宮城県      8.6              6.8   False   \n",
       "...            ...   ...   ...      ...              ...     ...   \n",
       "405095  2023-08-07  2023   佐賀県     36.8             34.3    True   \n",
       "405123  2023-08-07  2023   熊本県     37.9             35.2    True   \n",
       "405105  2023-08-07  2023   宮崎県     31.9             30.7    True   \n",
       "405139  2023-08-07  2023  鹿児島県     35.1             31.8    True   \n",
       "405121  2023-08-07  2023   沖縄県     33.3             28.6    True   \n",
       "\n",
       "        over30_capitol  over35  over35_capitol  over40  over40_capitol  \n",
       "4                False   False           False   False           False  \n",
       "41               False   False           False   False           False  \n",
       "36               False   False           False   False           False  \n",
       "19               False   False           False   False           False  \n",
       "11               False   False           False   False           False  \n",
       "...                ...     ...             ...     ...             ...  \n",
       "405095            True    True           False   False           False  \n",
       "405123            True    True            True   False           False  \n",
       "405105            True   False           False   False           False  \n",
       "405139            True    True           False   False           False  \n",
       "405121           False   False           False   False           False  \n",
       "\n",
       "[405140 rows x 11 columns]"
      ]
     },
     "execution_count": 68,
     "metadata": {},
     "output_type": "execute_result"
    }
   ],
   "source": []
  },
  {
   "cell_type": "code",
   "execution_count": null,
   "id": "87941699",
   "metadata": {},
   "outputs": [],
   "source": []
  },
  {
   "cell_type": "code",
   "execution_count": null,
   "id": "f84f8ddb",
   "metadata": {},
   "outputs": [],
   "source": []
  },
  {
   "cell_type": "code",
   "execution_count": null,
   "id": "8a4b3e6b",
   "metadata": {},
   "outputs": [],
   "source": []
  },
  {
   "cell_type": "code",
   "execution_count": null,
   "id": "26fe0299",
   "metadata": {},
   "outputs": [],
   "source": []
  },
  {
   "cell_type": "code",
   "execution_count": null,
   "id": "d1326083",
   "metadata": {},
   "outputs": [],
   "source": []
  },
  {
   "cell_type": "markdown",
   "id": "56ffb63d",
   "metadata": {},
   "source": [
    "最新データを呼び出し"
   ]
  },
  {
   "cell_type": "code",
   "execution_count": null,
   "id": "2b3963ff",
   "metadata": {},
   "outputs": [],
   "source": [
    "file_dir = \"./data-maxtemp/timeseries-data-by-points/data-raw/\""
   ]
  },
  {
   "cell_type": "code",
   "execution_count": null,
   "id": "3939a782",
   "metadata": {},
   "outputs": [],
   "source": [
    "glob.glob(f'{file_dir}prec-*/**/*202307.csv', recursive=True)"
   ]
  },
  {
   "cell_type": "code",
   "execution_count": null,
   "id": "7eede92f",
   "metadata": {},
   "outputs": [],
   "source": []
  }
 ],
 "metadata": {
  "kernelspec": {
   "display_name": "python3.11.3",
   "language": "python",
   "name": "python3.11.3"
  },
  "language_info": {
   "codemirror_mode": {
    "name": "ipython",
    "version": 3
   },
   "file_extension": ".py",
   "mimetype": "text/x-python",
   "name": "python",
   "nbconvert_exporter": "python",
   "pygments_lexer": "ipython3",
   "version": "3.11.3"
  },
  "toc": {
   "base_numbering": 1,
   "nav_menu": {},
   "number_sections": true,
   "sideBar": true,
   "skip_h1_title": false,
   "title_cell": "Table of Contents",
   "title_sidebar": "Contents",
   "toc_cell": false,
   "toc_position": {},
   "toc_section_display": true,
   "toc_window_display": true
  }
 },
 "nbformat": 4,
 "nbformat_minor": 5
}

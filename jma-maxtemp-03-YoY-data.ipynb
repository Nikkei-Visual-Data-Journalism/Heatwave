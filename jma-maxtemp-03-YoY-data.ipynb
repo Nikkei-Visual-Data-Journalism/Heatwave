{
 "cells": [
  {
   "cell_type": "markdown",
   "id": "ae142c1e",
   "metadata": {},
   "source": [
    "# jma-maxtemp-04-YoY-data"
   ]
  },
  {
   "cell_type": "markdown",
   "id": "eddacef0",
   "metadata": {},
   "source": [
    "* 定期実行\n",
    "* 作業内容\n",
    "    * 真夏日・猛暑日の県別データを呼び出し\n",
    "    * 過去分と直近分を統合\n",
    "    * 掲載時点の同年同月を出す"
   ]
  },
  {
   "cell_type": "code",
   "execution_count": 35,
   "id": "b34696c0",
   "metadata": {},
   "outputs": [],
   "source": [
    "import pandas as pd\n",
    "import glob"
   ]
  },
  {
   "cell_type": "code",
   "execution_count": 36,
   "id": "254badc1",
   "metadata": {},
   "outputs": [],
   "source": [
    "#観測地点の一覧\n",
    "url = 'https://raw.githubusercontent.com/Nikkei-Visual-Data-Journalism/Heatwave/main/data-maxtemp/meta/points_list.csv'\n",
    "points = pd.read_csv(url)"
   ]
  },
  {
   "cell_type": "markdown",
   "id": "116ebd06",
   "metadata": {},
   "source": [
    "県別の気温（真夏日・猛暑日）、過去分のデータを呼び出し"
   ]
  },
  {
   "cell_type": "code",
   "execution_count": 37,
   "id": "d17e88c7",
   "metadata": {},
   "outputs": [],
   "source": [
    "url = \"./data-maxtemp/timeseries-data/jma-maxtemp-temp-by-pref-ts.csv\"\n",
    "by_pref = pd.read_csv(url)"
   ]
  },
  {
   "cell_type": "code",
   "execution_count": 25,
   "id": "b7c0bee8",
   "metadata": {},
   "outputs": [
    {
     "data": {
      "text/plain": [
       "47"
      ]
     },
     "execution_count": 25,
     "metadata": {},
     "output_type": "execute_result"
    }
   ],
   "source": [
    "#確認\n",
    "by_pref.pref.nunique()"
   ]
  },
  {
   "cell_type": "code",
   "execution_count": 26,
   "id": "e64b49be",
   "metadata": {},
   "outputs": [
    {
     "data": {
      "text/html": [
       "<div>\n",
       "<style scoped>\n",
       "    .dataframe tbody tr th:only-of-type {\n",
       "        vertical-align: middle;\n",
       "    }\n",
       "\n",
       "    .dataframe tbody tr th {\n",
       "        vertical-align: top;\n",
       "    }\n",
       "\n",
       "    .dataframe thead th {\n",
       "        text-align: right;\n",
       "    }\n",
       "</style>\n",
       "<table border=\"1\" class=\"dataframe\">\n",
       "  <thead>\n",
       "    <tr style=\"text-align: right;\">\n",
       "      <th></th>\n",
       "      <th>date</th>\n",
       "      <th>year</th>\n",
       "      <th>pref</th>\n",
       "      <th>maxtemp</th>\n",
       "      <th>maxtemp_capitol</th>\n",
       "      <th>over30</th>\n",
       "      <th>over30_capitol</th>\n",
       "      <th>over35</th>\n",
       "      <th>over35_capitol</th>\n",
       "      <th>over40</th>\n",
       "      <th>over40_capitol</th>\n",
       "      <th>count</th>\n",
       "    </tr>\n",
       "  </thead>\n",
       "  <tbody>\n",
       "    <tr>\n",
       "      <th>0</th>\n",
       "      <td>2000-01-01</td>\n",
       "      <td>2000</td>\n",
       "      <td>三重県</td>\n",
       "      <td>14.6</td>\n",
       "      <td>11.7</td>\n",
       "      <td>False</td>\n",
       "      <td>False</td>\n",
       "      <td>False</td>\n",
       "      <td>False</td>\n",
       "      <td>False</td>\n",
       "      <td>False</td>\n",
       "      <td>1</td>\n",
       "    </tr>\n",
       "    <tr>\n",
       "      <th>1</th>\n",
       "      <td>2000-01-01</td>\n",
       "      <td>2000</td>\n",
       "      <td>京都府</td>\n",
       "      <td>9.6</td>\n",
       "      <td>9.3</td>\n",
       "      <td>False</td>\n",
       "      <td>False</td>\n",
       "      <td>False</td>\n",
       "      <td>False</td>\n",
       "      <td>False</td>\n",
       "      <td>False</td>\n",
       "      <td>1</td>\n",
       "    </tr>\n",
       "    <tr>\n",
       "      <th>2</th>\n",
       "      <td>2000-01-01</td>\n",
       "      <td>2000</td>\n",
       "      <td>佐賀県</td>\n",
       "      <td>16.9</td>\n",
       "      <td>16.3</td>\n",
       "      <td>False</td>\n",
       "      <td>False</td>\n",
       "      <td>False</td>\n",
       "      <td>False</td>\n",
       "      <td>False</td>\n",
       "      <td>False</td>\n",
       "      <td>1</td>\n",
       "    </tr>\n",
       "    <tr>\n",
       "      <th>3</th>\n",
       "      <td>2000-01-01</td>\n",
       "      <td>2000</td>\n",
       "      <td>兵庫県</td>\n",
       "      <td>12.5</td>\n",
       "      <td>11.2</td>\n",
       "      <td>False</td>\n",
       "      <td>False</td>\n",
       "      <td>False</td>\n",
       "      <td>False</td>\n",
       "      <td>False</td>\n",
       "      <td>False</td>\n",
       "      <td>1</td>\n",
       "    </tr>\n",
       "    <tr>\n",
       "      <th>4</th>\n",
       "      <td>2000-01-01</td>\n",
       "      <td>2000</td>\n",
       "      <td>北海道</td>\n",
       "      <td>2.7</td>\n",
       "      <td>-0.7</td>\n",
       "      <td>False</td>\n",
       "      <td>False</td>\n",
       "      <td>False</td>\n",
       "      <td>False</td>\n",
       "      <td>False</td>\n",
       "      <td>False</td>\n",
       "      <td>1</td>\n",
       "    </tr>\n",
       "    <tr>\n",
       "      <th>...</th>\n",
       "      <td>...</td>\n",
       "      <td>...</td>\n",
       "      <td>...</td>\n",
       "      <td>...</td>\n",
       "      <td>...</td>\n",
       "      <td>...</td>\n",
       "      <td>...</td>\n",
       "      <td>...</td>\n",
       "      <td>...</td>\n",
       "      <td>...</td>\n",
       "      <td>...</td>\n",
       "      <td>...</td>\n",
       "    </tr>\n",
       "    <tr>\n",
       "      <th>404806</th>\n",
       "      <td>2023-07-31</td>\n",
       "      <td>2023</td>\n",
       "      <td>静岡県</td>\n",
       "      <td>35.9</td>\n",
       "      <td>32.8</td>\n",
       "      <td>True</td>\n",
       "      <td>True</td>\n",
       "      <td>True</td>\n",
       "      <td>False</td>\n",
       "      <td>False</td>\n",
       "      <td>False</td>\n",
       "      <td>1</td>\n",
       "    </tr>\n",
       "    <tr>\n",
       "      <th>404807</th>\n",
       "      <td>2023-07-31</td>\n",
       "      <td>2023</td>\n",
       "      <td>香川県</td>\n",
       "      <td>34.5</td>\n",
       "      <td>33.0</td>\n",
       "      <td>True</td>\n",
       "      <td>True</td>\n",
       "      <td>False</td>\n",
       "      <td>False</td>\n",
       "      <td>False</td>\n",
       "      <td>False</td>\n",
       "      <td>1</td>\n",
       "    </tr>\n",
       "    <tr>\n",
       "      <th>404808</th>\n",
       "      <td>2023-07-31</td>\n",
       "      <td>2023</td>\n",
       "      <td>高知県</td>\n",
       "      <td>32.7</td>\n",
       "      <td>32.7</td>\n",
       "      <td>True</td>\n",
       "      <td>True</td>\n",
       "      <td>False</td>\n",
       "      <td>False</td>\n",
       "      <td>False</td>\n",
       "      <td>False</td>\n",
       "      <td>1</td>\n",
       "    </tr>\n",
       "    <tr>\n",
       "      <th>404809</th>\n",
       "      <td>2023-07-31</td>\n",
       "      <td>2023</td>\n",
       "      <td>鳥取県</td>\n",
       "      <td>36.9</td>\n",
       "      <td>36.9</td>\n",
       "      <td>True</td>\n",
       "      <td>True</td>\n",
       "      <td>True</td>\n",
       "      <td>True</td>\n",
       "      <td>False</td>\n",
       "      <td>False</td>\n",
       "      <td>1</td>\n",
       "    </tr>\n",
       "    <tr>\n",
       "      <th>404810</th>\n",
       "      <td>2023-07-31</td>\n",
       "      <td>2023</td>\n",
       "      <td>鹿児島県</td>\n",
       "      <td>33.1</td>\n",
       "      <td>30.5</td>\n",
       "      <td>True</td>\n",
       "      <td>True</td>\n",
       "      <td>False</td>\n",
       "      <td>False</td>\n",
       "      <td>False</td>\n",
       "      <td>False</td>\n",
       "      <td>1</td>\n",
       "    </tr>\n",
       "  </tbody>\n",
       "</table>\n",
       "<p>404811 rows × 12 columns</p>\n",
       "</div>"
      ],
      "text/plain": [
       "              date  year  pref  maxtemp  maxtemp_capitol  over30   \n",
       "0       2000-01-01  2000   三重県     14.6             11.7   False  \\\n",
       "1       2000-01-01  2000   京都府      9.6              9.3   False   \n",
       "2       2000-01-01  2000   佐賀県     16.9             16.3   False   \n",
       "3       2000-01-01  2000   兵庫県     12.5             11.2   False   \n",
       "4       2000-01-01  2000   北海道      2.7             -0.7   False   \n",
       "...            ...   ...   ...      ...              ...     ...   \n",
       "404806  2023-07-31  2023   静岡県     35.9             32.8    True   \n",
       "404807  2023-07-31  2023   香川県     34.5             33.0    True   \n",
       "404808  2023-07-31  2023   高知県     32.7             32.7    True   \n",
       "404809  2023-07-31  2023   鳥取県     36.9             36.9    True   \n",
       "404810  2023-07-31  2023  鹿児島県     33.1             30.5    True   \n",
       "\n",
       "        over30_capitol  over35  over35_capitol  over40  over40_capitol  count  \n",
       "0                False   False           False   False           False      1  \n",
       "1                False   False           False   False           False      1  \n",
       "2                False   False           False   False           False      1  \n",
       "3                False   False           False   False           False      1  \n",
       "4                False   False           False   False           False      1  \n",
       "...                ...     ...             ...     ...             ...    ...  \n",
       "404806            True    True           False   False           False      1  \n",
       "404807            True   False           False   False           False      1  \n",
       "404808            True   False           False   False           False      1  \n",
       "404809            True    True            True   False           False      1  \n",
       "404810            True   False           False   False           False      1  \n",
       "\n",
       "[404811 rows x 12 columns]"
      ]
     },
     "execution_count": 26,
     "metadata": {},
     "output_type": "execute_result"
    }
   ],
   "source": [
    "by_pref"
   ]
  },
  {
   "cell_type": "code",
   "execution_count": null,
   "id": "f70ee5f1",
   "metadata": {},
   "outputs": [],
   "source": []
  },
  {
   "cell_type": "code",
   "execution_count": null,
   "id": "a601a42f",
   "metadata": {},
   "outputs": [],
   "source": []
  },
  {
   "cell_type": "code",
   "execution_count": null,
   "id": "056c13bc",
   "metadata": {},
   "outputs": [],
   "source": []
  },
  {
   "cell_type": "code",
   "execution_count": null,
   "id": "1f63d782",
   "metadata": {},
   "outputs": [],
   "source": []
  },
  {
   "cell_type": "code",
   "execution_count": null,
   "id": "f96749aa",
   "metadata": {},
   "outputs": [],
   "source": []
  },
  {
   "cell_type": "markdown",
   "id": "4468468e",
   "metadata": {},
   "source": [
    "最新データを呼び出し"
   ]
  },
  {
   "cell_type": "code",
   "execution_count": null,
   "id": "4c6f767a",
   "metadata": {},
   "outputs": [],
   "source": [
    "file_dir = \"./data-maxtemp/timeseries-data-by-points/data-raw/\""
   ]
  },
  {
   "cell_type": "code",
   "execution_count": null,
   "id": "a91646e7",
   "metadata": {},
   "outputs": [],
   "source": [
    "glob.glob(f'{file_dir}prec-*/**/*202307.csv', recursive=True)"
   ]
  },
  {
   "cell_type": "code",
   "execution_count": null,
   "id": "09a2ae07",
   "metadata": {},
   "outputs": [],
   "source": []
  }
 ],
 "metadata": {
  "kernelspec": {
   "display_name": "python3.11.3",
   "language": "python",
   "name": "python3.11.3"
  },
  "language_info": {
   "codemirror_mode": {
    "name": "ipython",
    "version": 3
   },
   "file_extension": ".py",
   "mimetype": "text/x-python",
   "name": "python",
   "nbconvert_exporter": "python",
   "pygments_lexer": "ipython3",
   "version": "3.11.3"
  },
  "toc": {
   "base_numbering": 1,
   "nav_menu": {},
   "number_sections": true,
   "sideBar": true,
   "skip_h1_title": false,
   "title_cell": "Table of Contents",
   "title_sidebar": "Contents",
   "toc_cell": false,
   "toc_position": {},
   "toc_section_display": true,
   "toc_window_display": true
  }
 },
 "nbformat": 4,
 "nbformat_minor": 5
}

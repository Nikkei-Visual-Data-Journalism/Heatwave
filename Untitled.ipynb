{
 "cells": [
  {
   "cell_type": "code",
   "execution_count": 3,
   "id": "84e1c256",
   "metadata": {},
   "outputs": [],
   "source": [
    "#02\n",
    "\n",
    "#気象庁\n",
    "#①最新の最高気温のデータを取得\n",
    "#②過去のtsと統合してtimeseriesを更新\n",
    "\n",
    "#https://www.data.jma.go.jp/stats/data/mdrr/docs/csv_dl_readme.html\n",
    "#最新は1時間毎の更新（毎時00分の観測データを50分過ぎに更新）\n",
    "#過去７日はウェブ上のデータは毎日5:00ごろ更新＋修正は13:00、19:00、翌日1:00ごろの更新で反映-->github上で30分遅れで取得しているものを呼び出す\n",
    "#定期実行\n",
    "\n",
    "import pandas as pd\n",
    "\n",
    "#最新データの取得\n",
    "url = 'https://www.data.jma.go.jp/stats/data/mdrr/tem_rct/alltable/mxtemsadext00_rct.csv'\n",
    "data = pd.read_csv(url, encoding='Shift-JIS')\n",
    "\n",
    "#日付\n",
    "yyyymmdd = f\"{data['現在時刻(年)'][0]}{data.loc[0,['現在時刻(月)','現在時刻(日)']].apply(lambda x: str(x).zfill(2)).sum()}\"\n",
    "yyyymmdd_dt = pd.to_datetime(yyyymmdd, format='%Y%m%d')\n",
    "\n",
    "#最新データをcsvで出力\n",
    "##ファイル名\n",
    "filename = f\"./data-maxtemp/daily-data/jma-maxtemp-{yyyymmdd}.csv\"\n",
    "##記載\n",
    "data['date'] = yyyymmdd_dt\n",
    "##csv\n",
    "data.to_csv(filename, index=False)\n",
    "data.to_csv(\"./data-maxtemp/daily-data/jma-maxtemp-latest.csv\")\n",
    "\n",
    "#真夏日・猛暑日の数をかぞえる\n",
    "rename_dic = {col:'maxtemp' for col in data.columns if '最高気温(℃)' in col}\n",
    "data = data.rename(columns=rename_dic)\n",
    "\n",
    "###計算\n",
    "data['over30'] = data.maxtemp >= 30\n",
    "data['over35'] = data.maxtemp >= 35\n",
    "data['over40'] = data.maxtemp >= 40\n",
    "data['total'] = 1\n",
    "data['null_values'] = data.maxtemp.isna()\n",
    "\n",
    "###集計\n",
    "heat_points_latest = data[['over30','over35','over40','total','null_values']].sum()\n",
    "heat_points_latest['date'] = yyyymmdd_dt\n",
    "\n",
    "#過去分と統合\n",
    "filename = \"./data-maxtemp/timeseries-data/jma-maxtemp-heatpoints-ts.csv\"\n",
    "##過去分を取得\n",
    "heat_points = pd.read_csv(filename)\n",
    "heat_points.date = pd.to_datetime(heat_points.date)\n",
    "\n",
    "##統合して重複削除（新しく入ったほうを残す）\n",
    "heat_points = pd.concat([heat_points, heat_points_latest.to_frame().T])\n",
    "heat_points = heat_points.loc[~heat_points.duplicated(subset=['date'], keep='last')].reset_index(drop=True)\n",
    "heat_points = heat_points.dropna(subset='date').sort_values(by='date')\n",
    "\n",
    "##出力\n",
    "heat_points.to_csv(filename, index=False)\n",
    "\n",
    "#最終更新時刻を記録\n",
    "##動的テキスト表示用（使えるかは未定）\n",
    "update_log = f\"{yyyymmdd_dt.strftime('%Y年%-m月%-d日')}{data['現在時刻(時)'][0]}時時点\"\n",
    "with open('./data-maxtemp/timeseries-data/update_log.txt', 'w') as f:\n",
    "    f.write(update_log)"
   ]
  },
  {
   "cell_type": "code",
   "execution_count": 5,
   "id": "7ecb60e0",
   "metadata": {},
   "outputs": [
    {
     "data": {
      "text/plain": [
       "Index(['date', 'over30', 'over35', 'over40', 'total', 'null_values', 'over15',\n",
       "       'over20', 'over25', 'over45', 'over50'],\n",
       "      dtype='object')"
      ]
     },
     "execution_count": 5,
     "metadata": {},
     "output_type": "execute_result"
    }
   ],
   "source": [
    "heat_points[['date', 'over30', 'over35', 'over40', 'total', 'null_values', 'over15',\n",
    "       'over20', 'over25', 'over45', 'over50'],]"
   ]
  },
  {
   "cell_type": "code",
   "execution_count": null,
   "id": "56b5d84f",
   "metadata": {},
   "outputs": [],
   "source": []
  }
 ],
 "metadata": {
  "kernelspec": {
   "display_name": "python3.11.3",
   "language": "python",
   "name": "python3.11.3"
  },
  "language_info": {
   "codemirror_mode": {
    "name": "ipython",
    "version": 3
   },
   "file_extension": ".py",
   "mimetype": "text/x-python",
   "name": "python",
   "nbconvert_exporter": "python",
   "pygments_lexer": "ipython3",
   "version": "3.11.3"
  },
  "toc": {
   "base_numbering": 1,
   "nav_menu": {},
   "number_sections": true,
   "sideBar": true,
   "skip_h1_title": false,
   "title_cell": "Table of Contents",
   "title_sidebar": "Contents",
   "toc_cell": false,
   "toc_position": {},
   "toc_section_display": true,
   "toc_window_display": true
  }
 },
 "nbformat": 4,
 "nbformat_minor": 5
}

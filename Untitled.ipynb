{
 "cells": [
  {
   "cell_type": "code",
   "execution_count": 1,
   "id": "c8b9ce13",
   "metadata": {},
   "outputs": [],
   "source": [
    "import pandas as pd"
   ]
  },
  {
   "cell_type": "code",
   "execution_count": 2,
   "id": "823631d4",
   "metadata": {},
   "outputs": [],
   "source": [
    "#filepath = file_dir = \"./data-maxtemp/timeseries-data/jma-maxtemp-temp-by-pref-ts.csv\""
   ]
  },
  {
   "cell_type": "code",
   "execution_count": 3,
   "id": "a15864c5",
   "metadata": {},
   "outputs": [],
   "source": [
    "#data = pd.read_csv(filepath)"
   ]
  },
  {
   "cell_type": "code",
   "execution_count": 4,
   "id": "f99ff5e6",
   "metadata": {},
   "outputs": [],
   "source": [
    "#amedasから最新の気象データを取得するコード\n",
    "\n",
    "#dependencies\n",
    "import requests\n",
    "import pandas as pd\n",
    "from datetime import datetime,timedelta\n",
    "\n",
    "#data1: 地点情報\n",
    "url = 'https://www.jma.go.jp/bosai/amedas/const/amedastable.json'\n",
    "r = requests.get(url)\n",
    "data1 = r.json()\n",
    "\n",
    "#data2: amedasの最新気象データ\n",
    "##最新の時刻\n",
    "url = 'https://www.jma.go.jp/bosai/amedas/data/latest_time.txt'\n",
    "r = requests.get(url)\n",
    "latest_time = r.text\n",
    "latest_time = datetime.strptime(latest_time, '%Y-%m-%dT%H:%M:%S%z').strftime('%Y%m%d%H0000')\n",
    "\n",
    "##最新のデータ\n",
    "url = f\"https://www.jma.go.jp/bosai/amedas/data/map/{latest_time}.json\"\n",
    "r = requests.get(url)\n",
    "data2 = r.json()\n",
    "\n",
    "#データ整形\n",
    "##data1とdata2を統合\n",
    "amedas_data = {key: {**data1.get(key, {}), **data2.get(key, {})} for key in set(data1) | set(data2)}\n",
    "#dataframe\n",
    "amedas = pd.DataFrame(amedas_data)\n",
    "amedas = amedas.T.rename_axis('amdno').reset_index()\n",
    "\n",
    "##geo-cordをととのえる\n",
    "amedas[['lat','lon']] = amedas[['lat','lon']].applymap(lambda x: x[0] + x[1]/60)\n",
    "\n",
    "##残りのリスト形式のデータから値のみ抽出\n",
    "amedas = amedas.applymap(lambda x: x[0] if type(x)==list else x)\n",
    "\n",
    "#色\n",
    "\n",
    "\n",
    "#データ出力\n",
    "###全部入り\n",
    "amedas.to_csv('./data/amedas_latest_all.csv',encoding='utf-8-sig',index=False)\n",
    "\n",
    "\n",
    "\n",
    "\n",
    "###tempのみ\n",
    "amedas.dropna(subset=['temp']).to_csv('./data/amedas_latest_temp.csv',encoding='utf-8-sig',index=False)"
   ]
  },
  {
   "cell_type": "code",
   "execution_count": 20,
   "id": "1390b810",
   "metadata": {},
   "outputs": [],
   "source": [
    "amedas['temp_color'] = None"
   ]
  },
  {
   "cell_type": "code",
   "execution_count": 24,
   "id": "7de2cbed",
   "metadata": {},
   "outputs": [],
   "source": []
  },
  {
   "cell_type": "code",
   "execution_count": 19,
   "id": "c39730c3",
   "metadata": {},
   "outputs": [
    {
     "data": {
      "text/plain": [
       "0       False\n",
       "1       False\n",
       "2       False\n",
       "3       False\n",
       "4       False\n",
       "        ...  \n",
       "1282    False\n",
       "1283    False\n",
       "1284    False\n",
       "1285    False\n",
       "1286    False\n",
       "Name: temp, Length: 1287, dtype: bool"
      ]
     },
     "execution_count": 19,
     "metadata": {},
     "output_type": "execute_result"
    }
   ],
   "source": [
    "amedas.temp < 10"
   ]
  },
  {
   "cell_type": "code",
   "execution_count": null,
   "id": "6b97e7e1",
   "metadata": {},
   "outputs": [],
   "source": []
  }
 ],
 "metadata": {
  "kernelspec": {
   "display_name": "python3.11.3",
   "language": "python",
   "name": "python3.11.3"
  },
  "language_info": {
   "codemirror_mode": {
    "name": "ipython",
    "version": 3
   },
   "file_extension": ".py",
   "mimetype": "text/x-python",
   "name": "python",
   "nbconvert_exporter": "python",
   "pygments_lexer": "ipython3",
   "version": "3.11.3"
  },
  "toc": {
   "base_numbering": 1,
   "nav_menu": {},
   "number_sections": true,
   "sideBar": true,
   "skip_h1_title": false,
   "title_cell": "Table of Contents",
   "title_sidebar": "Contents",
   "toc_cell": false,
   "toc_position": {},
   "toc_section_display": true,
   "toc_window_display": true
  }
 },
 "nbformat": 4,
 "nbformat_minor": 5
}

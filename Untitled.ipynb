{
 "cells": [
  {
   "cell_type": "code",
   "execution_count": 1,
   "id": "bbc846aa",
   "metadata": {},
   "outputs": [
    {
     "ename": "AttributeError",
     "evalue": "'NoneType' object has no attribute 'group'",
     "output_type": "error",
     "traceback": [
      "\u001b[0;31m---------------------------------------------------------------------------\u001b[0m",
      "\u001b[0;31mAttributeError\u001b[0m                            Traceback (most recent call last)",
      "Cell \u001b[0;32mIn[1], line 63\u001b[0m\n\u001b[1;32m     61\u001b[0m date_latest \u001b[38;5;241m=\u001b[39m \u001b[38;5;28mint\u001b[39m(date_latest\u001b[38;5;241m.\u001b[39mstrftime(\u001b[38;5;124m'\u001b[39m\u001b[38;5;124m%\u001b[39m\u001b[38;5;124mY\u001b[39m\u001b[38;5;124m%\u001b[39m\u001b[38;5;124mm\u001b[39m\u001b[38;5;132;01m%d\u001b[39;00m\u001b[38;5;124m'\u001b[39m))\n\u001b[1;32m     62\u001b[0m \u001b[38;5;66;03m#最終更新日以降のファイルURLのみ取得\u001b[39;00m\n\u001b[0;32m---> 63\u001b[0m href_list \u001b[38;5;241m=\u001b[39m \u001b[43m[\u001b[49m\u001b[43mhref\u001b[49m\u001b[43m \u001b[49m\u001b[38;5;28;43;01mfor\u001b[39;49;00m\u001b[43m \u001b[49m\u001b[43mhref\u001b[49m\u001b[43m \u001b[49m\u001b[38;5;129;43;01min\u001b[39;49;00m\u001b[43m \u001b[49m\u001b[43mhref_list\u001b[49m\u001b[43m \u001b[49m\u001b[38;5;28;43;01mif\u001b[39;49;00m\u001b[43m \u001b[49m\u001b[38;5;28;43mint\u001b[39;49m\u001b[43m(\u001b[49m\u001b[43mre\u001b[49m\u001b[38;5;241;43m.\u001b[39;49m\u001b[43msearch\u001b[49m\u001b[43m(\u001b[49m\u001b[38;5;124;43mr\u001b[39;49m\u001b[38;5;124;43m'\u001b[39;49m\u001b[38;5;124;43m(\u001b[39;49m\u001b[38;5;124;43m\\\u001b[39;49m\u001b[38;5;124;43md\u001b[39;49m\u001b[38;5;132;43;01m{8}\u001b[39;49;00m\u001b[38;5;124;43m)\u001b[39;49m\u001b[38;5;124;43m\\\u001b[39;49m\u001b[38;5;124;43m.pdf\u001b[39;49m\u001b[38;5;124;43m'\u001b[39;49m\u001b[43m,\u001b[49m\u001b[43m \u001b[49m\u001b[43mhref\u001b[49m\u001b[43m)\u001b[49m\u001b[38;5;241;43m.\u001b[39;49m\u001b[43mgroup\u001b[49m\u001b[43m(\u001b[49m\u001b[38;5;241;43m1\u001b[39;49m\u001b[43m)\u001b[49m\u001b[43m)\u001b[49m\u001b[43m \u001b[49m\u001b[38;5;241;43m>\u001b[39;49m\u001b[43m \u001b[49m\u001b[43mdate_latest\u001b[49m\u001b[43m]\u001b[49m\n\u001b[1;32m     65\u001b[0m \u001b[38;5;66;03m#追加があるときのみ\u001b[39;00m\n\u001b[1;32m     66\u001b[0m \u001b[38;5;28;01mif\u001b[39;00m \u001b[38;5;28mlen\u001b[39m(href_list)\u001b[38;5;241m>\u001b[39m\u001b[38;5;241m0\u001b[39m:\n\u001b[1;32m     67\u001b[0m     \u001b[38;5;66;03m#追加分のデータ取得\u001b[39;00m\n",
      "Cell \u001b[0;32mIn[1], line 63\u001b[0m, in \u001b[0;36m<listcomp>\u001b[0;34m(.0)\u001b[0m\n\u001b[1;32m     61\u001b[0m date_latest \u001b[38;5;241m=\u001b[39m \u001b[38;5;28mint\u001b[39m(date_latest\u001b[38;5;241m.\u001b[39mstrftime(\u001b[38;5;124m'\u001b[39m\u001b[38;5;124m%\u001b[39m\u001b[38;5;124mY\u001b[39m\u001b[38;5;124m%\u001b[39m\u001b[38;5;124mm\u001b[39m\u001b[38;5;132;01m%d\u001b[39;00m\u001b[38;5;124m'\u001b[39m))\n\u001b[1;32m     62\u001b[0m \u001b[38;5;66;03m#最終更新日以降のファイルURLのみ取得\u001b[39;00m\n\u001b[0;32m---> 63\u001b[0m href_list \u001b[38;5;241m=\u001b[39m [href \u001b[38;5;28;01mfor\u001b[39;00m href \u001b[38;5;129;01min\u001b[39;00m href_list \u001b[38;5;28;01mif\u001b[39;00m \u001b[38;5;28mint\u001b[39m(\u001b[43mre\u001b[49m\u001b[38;5;241;43m.\u001b[39;49m\u001b[43msearch\u001b[49m\u001b[43m(\u001b[49m\u001b[38;5;124;43mr\u001b[39;49m\u001b[38;5;124;43m'\u001b[39;49m\u001b[38;5;124;43m(\u001b[39;49m\u001b[38;5;124;43m\\\u001b[39;49m\u001b[38;5;124;43md\u001b[39;49m\u001b[38;5;132;43;01m{8}\u001b[39;49;00m\u001b[38;5;124;43m)\u001b[39;49m\u001b[38;5;124;43m\\\u001b[39;49m\u001b[38;5;124;43m.pdf\u001b[39;49m\u001b[38;5;124;43m'\u001b[39;49m\u001b[43m,\u001b[49m\u001b[43m \u001b[49m\u001b[43mhref\u001b[49m\u001b[43m)\u001b[49m\u001b[38;5;241;43m.\u001b[39;49m\u001b[43mgroup\u001b[49m(\u001b[38;5;241m1\u001b[39m)) \u001b[38;5;241m>\u001b[39m date_latest]\n\u001b[1;32m     65\u001b[0m \u001b[38;5;66;03m#追加があるときのみ\u001b[39;00m\n\u001b[1;32m     66\u001b[0m \u001b[38;5;28;01mif\u001b[39;00m \u001b[38;5;28mlen\u001b[39m(href_list)\u001b[38;5;241m>\u001b[39m\u001b[38;5;241m0\u001b[39m:\n\u001b[1;32m     67\u001b[0m     \u001b[38;5;66;03m#追加分のデータ取得\u001b[39;00m\n",
      "\u001b[0;31mAttributeError\u001b[0m: 'NoneType' object has no attribute 'group'"
     ]
    }
   ],
   "source": [
    "#熱中症の救急搬送患者数（総務省）\n",
    "#旧hot_weather\n",
    "#（他のコードもすべて猛暑関連で後から認識しにくいので変更）\n",
    "#ソース：消防庁\n",
    "#毎週火曜（夕方？）に週次データをPDFで発表\n",
    "#https://www.fdma.go.jp/disaster/heatstroke/post3.html\n",
    "\n",
    "import pandas as pd\n",
    "from datetime import datetime, date, timedelta\n",
    "import tabula\n",
    "import requests\n",
    "from bs4 import BeautifulSoup\n",
    "import re\n",
    "\n",
    "#PDFファイルのURLを取得\n",
    "url = 'https://www.fdma.go.jp/disaster/heatstroke/post3.html'\n",
    "r = requests.get(url)\n",
    "text = r.text\n",
    "soup = BeautifulSoup(text, features=\"lxml\")\n",
    "\n",
    "pattern = re.compile(r'.*heatstroke_sokuhouti.*\\.pdf')\n",
    "href_list = [a['href'] for a in soup.select('div > a[href]') if pattern.match(a['href'])]\n",
    "\n",
    "def read_pdf(href):\n",
    "    #URL\n",
    "    parent_dir = 'https://www.fdma.go.jp'\n",
    "    url = f\"https://www.fdma.go.jp{href}\"\n",
    "    \n",
    "    #PDFから表を取得\n",
    "    dfs = tabula.read_pdf(url, stream=True, pages=1)\n",
    "    df = dfs[0].reset_index(drop=True)\n",
    "    \n",
    "    #日付の列を探す\n",
    "    for col in df.columns:\n",
    "        try:\n",
    "            idx = df[df[col].str.contains('日付', na=False)].index.to_list()[0]\n",
    "            break\n",
    "        except:\n",
    "            pass\n",
    "    \n",
    "    #日付に変換\n",
    "    df = df.rename(columns={col:'date'})\n",
    "    df['date'] = df['date'].apply(lambda x: pd.to_datetime(f\"{date.today().year}年{str(x).split(' ')[0]}\", format='%Y年%m月%d日', errors='coerce'))\n",
    "    df = df.set_index('date')\n",
    "    \n",
    "    #カラム名\n",
    "    df.columns = df.iloc[idx+1].to_list()\n",
    "\n",
    "    #「合計」の列を抜粋\n",
    "    col_sum = [col for col in df.columns if '合計'in str(col)]\n",
    "    data= df[col_sum].iloc[:,0].rename('熱中症患者数')\n",
    "    data = pd.to_numeric(data.str.replace(',', ''), errors='coerce')\n",
    "    data = data.reset_index().dropna(subset=['date'])\n",
    "    return data\n",
    "\n",
    "#過去分のデータを取得\n",
    "filepath = './data/heatstroke.csv'\n",
    "heatstroke = pd.read_csv(filepath, parse_dates=['date'])\n",
    "#最終更新日\n",
    "date_latest = heatstroke.date.max() - timedelta(days=6)\n",
    "date_latest = int(date_latest.strftime('%Y%m%d'))\n",
    "#最終更新日以降のファイルURLのみ取得\n",
    "href_list = [href for href in href_list if int(re.search(r'(\\d{8})\\.pdf', href).group(1)) > date_latest]\n",
    "\n",
    "#追加があるときのみ\n",
    "if len(href_list)>0:\n",
    "    #追加分のデータ取得\n",
    "    for href in set(href_list):\n",
    "        weekly_data = read_pdf(href)\n",
    "        heatstroke = pd.concat([heatstroke, weekly_data])\n",
    "    #重複削除\n",
    "    heatstroke = heatstroke[~heatstroke.duplicated(subset='date', keep='last')].set_index('date')\n",
    "    #日付の隙間を埋める\n",
    "    heatstroke = heatstroke.reindex(pd.date_range(heatstroke.index.min(), heatstroke.index.max()))\n",
    "    heatstroke = heatstroke.rename_axis('date').reset_index()\n",
    "    print('Updated')\n",
    "else:\n",
    "    print('No updates')\n",
    "    pass\n",
    "           \n",
    "#heatstroke.to_csv(filepath, index=False)\n",
    "\n",
    "#### change log####\n",
    "#役所のPDFでカラムやインデックスを位置で決めうちするのはけっこう危険\n",
    "#やや時間はかかりますが、列名などを特定して取得したほうがよいです\n",
    "#データは数値は数値、日付は日付できれいにしておく"
   ]
  },
  {
   "cell_type": "code",
   "execution_count": 5,
   "id": "9764e6cc",
   "metadata": {},
   "outputs": [
    {
     "data": {
      "text/plain": [
       "['/disaster/heatstroke/items/r5/heatstroke_sokuhouti_20230807-2.pdf',\n",
       " '/disaster/heatstroke/items/r5/heatstroke_sokuhouti_20230807-2.pdf',\n",
       " '/disaster/heatstroke/items/r5/heatstroke_sokuhouti_20230731.pdf',\n",
       " '/disaster/heatstroke/items/r5/heatstroke_sokuhouti_20230724.pdf',\n",
       " '/disaster/heatstroke/items/r5/heatstroke_sokuhouti_20230717.pdf',\n",
       " '/disaster/heatstroke/items/r5/heatstroke_sokuhouti_20230710.pdf',\n",
       " '/disaster/heatstroke/items/r5/heatstroke_sokuhouti_20230703.pdf',\n",
       " '/disaster/heatstroke/items/r5/heatstroke_sokuhouti_20230626.pdf',\n",
       " '/disaster/heatstroke/items/r5/heatstroke_sokuhouti_20230619.pdf',\n",
       " '/disaster/heatstroke/items/r5/heatstroke_sokuhouti_20230612.pdf',\n",
       " '/disaster/heatstroke/items/r5/heatstroke_sokuhouti_20230605.pdf',\n",
       " '/disaster/heatstroke/items/r5/heatstroke_sokuhouti_20230529.pdf',\n",
       " '/disaster/heatstroke/items/r5/heatstroke_sokuhouti_20230522.pdf',\n",
       " '/disaster/heatstroke/items/r5/heatstroke_sokuhouti_20230515.pdf',\n",
       " '/disaster/heatstroke/items/r5/heatstroke_sokuhouti_20230508.pdf',\n",
       " '/disaster/heatstroke/items/r5/heatstroke_sokuhouti_20230501.pdf']"
      ]
     },
     "execution_count": 5,
     "metadata": {},
     "output_type": "execute_result"
    }
   ],
   "source": [
    "href_list"
   ]
  },
  {
   "cell_type": "code",
   "execution_count": 6,
   "id": "0e4cda6c",
   "metadata": {},
   "outputs": [
    {
     "data": {
      "text/plain": [
       "20230731"
      ]
     },
     "execution_count": 6,
     "metadata": {},
     "output_type": "execute_result"
    }
   ],
   "source": [
    "date_latest"
   ]
  },
  {
   "cell_type": "code",
   "execution_count": 9,
   "id": "60e91452",
   "metadata": {},
   "outputs": [],
   "source": [
    "href = href_list[0]\n",
    "\n",
    "re.search(r'(\\d{8})\\.pdf', href)"
   ]
  },
  {
   "cell_type": "code",
   "execution_count": 10,
   "id": "70d9e0e7",
   "metadata": {},
   "outputs": [
    {
     "data": {
      "text/plain": [
       "'/disaster/heatstroke/items/r5/heatstroke_sokuhouti_20230807-2.pdf'"
      ]
     },
     "execution_count": 10,
     "metadata": {},
     "output_type": "execute_result"
    }
   ],
   "source": [
    "href"
   ]
  },
  {
   "cell_type": "code",
   "execution_count": null,
   "id": "5f0a641a",
   "metadata": {},
   "outputs": [],
   "source": []
  },
  {
   "cell_type": "code",
   "execution_count": 4,
   "id": "190708f5",
   "metadata": {},
   "outputs": [
    {
     "ename": "AttributeError",
     "evalue": "'NoneType' object has no attribute 'group'",
     "output_type": "error",
     "traceback": [
      "\u001b[0;31m---------------------------------------------------------------------------\u001b[0m",
      "\u001b[0;31mAttributeError\u001b[0m                            Traceback (most recent call last)",
      "Cell \u001b[0;32mIn[4], line 1\u001b[0m\n\u001b[0;32m----> 1\u001b[0m \u001b[43m[\u001b[49m\u001b[43mhref\u001b[49m\u001b[43m \u001b[49m\u001b[38;5;28;43;01mfor\u001b[39;49;00m\u001b[43m \u001b[49m\u001b[43mhref\u001b[49m\u001b[43m \u001b[49m\u001b[38;5;129;43;01min\u001b[39;49;00m\u001b[43m \u001b[49m\u001b[43mhref_list\u001b[49m\u001b[43m \u001b[49m\u001b[38;5;28;43;01mif\u001b[39;49;00m\u001b[43m \u001b[49m\u001b[38;5;28;43mint\u001b[39;49m\u001b[43m(\u001b[49m\u001b[43mre\u001b[49m\u001b[38;5;241;43m.\u001b[39;49m\u001b[43msearch\u001b[49m\u001b[43m(\u001b[49m\u001b[38;5;124;43mr\u001b[39;49m\u001b[38;5;124;43m'\u001b[39;49m\u001b[38;5;124;43m(\u001b[39;49m\u001b[38;5;124;43m\\\u001b[39;49m\u001b[38;5;124;43md\u001b[39;49m\u001b[38;5;132;43;01m{8}\u001b[39;49;00m\u001b[38;5;124;43m)\u001b[39;49m\u001b[38;5;124;43m\\\u001b[39;49m\u001b[38;5;124;43m.pdf\u001b[39;49m\u001b[38;5;124;43m'\u001b[39;49m\u001b[43m,\u001b[49m\u001b[43m \u001b[49m\u001b[43mhref\u001b[49m\u001b[43m)\u001b[49m\u001b[38;5;241;43m.\u001b[39;49m\u001b[43mgroup\u001b[49m\u001b[43m(\u001b[49m\u001b[38;5;241;43m1\u001b[39;49m\u001b[43m)\u001b[49m\u001b[43m)\u001b[49m\u001b[43m \u001b[49m\u001b[38;5;241;43m>\u001b[39;49m\u001b[43m \u001b[49m\u001b[43mdate_latest\u001b[49m\u001b[43m]\u001b[49m\n",
      "Cell \u001b[0;32mIn[4], line 1\u001b[0m, in \u001b[0;36m<listcomp>\u001b[0;34m(.0)\u001b[0m\n\u001b[0;32m----> 1\u001b[0m [href \u001b[38;5;28;01mfor\u001b[39;00m href \u001b[38;5;129;01min\u001b[39;00m href_list \u001b[38;5;28;01mif\u001b[39;00m \u001b[38;5;28mint\u001b[39m(\u001b[43mre\u001b[49m\u001b[38;5;241;43m.\u001b[39;49m\u001b[43msearch\u001b[49m\u001b[43m(\u001b[49m\u001b[38;5;124;43mr\u001b[39;49m\u001b[38;5;124;43m'\u001b[39;49m\u001b[38;5;124;43m(\u001b[39;49m\u001b[38;5;124;43m\\\u001b[39;49m\u001b[38;5;124;43md\u001b[39;49m\u001b[38;5;132;43;01m{8}\u001b[39;49;00m\u001b[38;5;124;43m)\u001b[39;49m\u001b[38;5;124;43m\\\u001b[39;49m\u001b[38;5;124;43m.pdf\u001b[39;49m\u001b[38;5;124;43m'\u001b[39;49m\u001b[43m,\u001b[49m\u001b[43m \u001b[49m\u001b[43mhref\u001b[49m\u001b[43m)\u001b[49m\u001b[38;5;241;43m.\u001b[39;49m\u001b[43mgroup\u001b[49m(\u001b[38;5;241m1\u001b[39m)) \u001b[38;5;241m>\u001b[39m date_latest]\n",
      "\u001b[0;31mAttributeError\u001b[0m: 'NoneType' object has no attribute 'group'"
     ]
    }
   ],
   "source": [
    "[href for href in href_list if int(re.search(r'(\\d{8})\\.pdf', href).group(1)) > date_latest]"
   ]
  },
  {
   "cell_type": "code",
   "execution_count": null,
   "id": "d758f301",
   "metadata": {},
   "outputs": [],
   "source": []
  }
 ],
 "metadata": {
  "kernelspec": {
   "display_name": "python3.11.3",
   "language": "python",
   "name": "python3.11.3"
  },
  "language_info": {
   "codemirror_mode": {
    "name": "ipython",
    "version": 3
   },
   "file_extension": ".py",
   "mimetype": "text/x-python",
   "name": "python",
   "nbconvert_exporter": "python",
   "pygments_lexer": "ipython3",
   "version": "3.11.3"
  },
  "toc": {
   "base_numbering": 1,
   "nav_menu": {},
   "number_sections": true,
   "sideBar": true,
   "skip_h1_title": false,
   "title_cell": "Table of Contents",
   "title_sidebar": "Contents",
   "toc_cell": false,
   "toc_position": {},
   "toc_section_display": true,
   "toc_window_display": true
  }
 },
 "nbformat": 4,
 "nbformat_minor": 5
}

{
 "cells": [
  {
   "cell_type": "code",
   "execution_count": null,
   "id": "81bad7f6",
   "metadata": {},
   "outputs": [],
   "source": []
  },
  {
   "cell_type": "code",
   "execution_count": null,
   "id": "81a6d6b5",
   "metadata": {},
   "outputs": [],
   "source": [
    "df['date'] = df[['観測時刻(年)','観測時刻(月)','観測時刻(日)']].apply(\n",
    "    lambda row: '-'.join(row.map(lambda x: str(x).zfill(2))), axis=1\n",
    ")\n",
    "df['date'] = pd.to_datetime(df['date'], format='%Y-%m-%d')"
   ]
  },
  {
   "cell_type": "code",
   "execution_count": null,
   "id": "615b9776",
   "metadata": {},
   "outputs": [],
   "source": [
    "df['heat_ex'] = df.maxtemp.astype(float)>=35\n",
    "df['heat'] = df.maxtemp.astype(float)>=30\n",
    "\n",
    "df['heat_ex_prev1'] = df.maxtemp_prev1.astype(float)>=35\n",
    "df['heat_prev1'] = df.maxtemp_prev1.astype(float)>=30\n",
    "\n",
    "df['heat_ex_prev2'] = df.maxtemp_prev2.astype(float)>=35\n",
    "df['heat_prev2'] = df.maxtemp_prev2.astype(float)>=30"
   ]
  },
  {
   "cell_type": "code",
   "execution_count": null,
   "id": "b42c8918",
   "metadata": {},
   "outputs": [],
   "source": [
    "df.groupby('date')[['heat_ex','heat','heat_ex_prev1','heat_prev1','heat_ex_prev2','heat_prev2']].sum()"
   ]
  },
  {
   "cell_type": "code",
   "execution_count": null,
   "id": "c09c97cb",
   "metadata": {},
   "outputs": [],
   "source": [
    "#最新データの取得\n",
    "#日付が変わると対象日も変わる\n",
    "url = 'https://www.data.jma.go.jp/stats/data/mdrr/tem_rct/alltable/mxtemsadext00_rct.csv'\n",
    "data = pd.read_csv(url, encoding='Shift-JIS')"
   ]
  },
  {
   "cell_type": "code",
   "execution_count": null,
   "id": "6f7787dd",
   "metadata": {},
   "outputs": [],
   "source": [
    "#前年を取得\n",
    "\n",
    "url = 'https://www.data.jma.go.jp/obd/stats/etrn/view/temp/2022_hp.csv'\n",
    "heatpoint_2022 = pd.read_csv(url, encoding='shift_jis')"
   ]
  },
  {
   "cell_type": "code",
   "execution_count": null,
   "id": "c22384f5",
   "metadata": {},
   "outputs": [],
   "source": [
    "#column名をきれいにする\n",
    "rename_dict = {col: '真夏日' if '真夏日' in col else ('猛暑日' if '猛暑日' in col else col) for col in heatpoint_2022.columns}\n",
    "rename_dict.update({'年月日':'date'})\n",
    "heatpoint_2022 = heatpoint_2022.rename(columns=rename_dict)\n",
    "#日付変換\n",
    "heatpoint_2022.date = pd.to_datetime(heatpoint_2022.date)"
   ]
  },
  {
   "cell_type": "code",
   "execution_count": null,
   "id": "f863df6c",
   "metadata": {},
   "outputs": [],
   "source": []
  },
  {
   "cell_type": "code",
   "execution_count": null,
   "id": "e9da1f30",
   "metadata": {},
   "outputs": [],
   "source": []
  },
  {
   "cell_type": "code",
   "execution_count": null,
   "id": "760c33b1",
   "metadata": {},
   "outputs": [],
   "source": []
  },
  {
   "cell_type": "code",
   "execution_count": null,
   "id": "5d8aabd8",
   "metadata": {},
   "outputs": [],
   "source": []
  },
  {
   "cell_type": "code",
   "execution_count": null,
   "id": "b0aca512",
   "metadata": {},
   "outputs": [],
   "source": []
  },
  {
   "cell_type": "code",
   "execution_count": null,
   "id": "283a3e82",
   "metadata": {},
   "outputs": [],
   "source": []
  },
  {
   "cell_type": "code",
   "execution_count": 127,
   "id": "91d6a651",
   "metadata": {},
   "outputs": [],
   "source": [
    "#気象庁\n",
    "#過去7日間の最高気温のデータを取得するコード\n",
    "#https://www.data.jma.go.jp/stats/data/mdrr/docs/csv_dl_readme.html\n",
    "#ウェブ上のデータは毎日5:00ごろ更新＋修正は13:00、19:00、翌日1:00ごろの更新で反映\n",
    "\n",
    "import pandas as pd\n",
    "import re\n",
    "\n",
    "#データを取得してファイル名に日付を入れて保存する\n",
    "def get_previous_data(d):\n",
    "    url = f'https://www.data.jma.go.jp/obd/stats/data/mdrr/tem_rct/alltable/mxtemsadext0{d}.csv'\n",
    "    data = pd.read_csv(url, encoding='Shift-JIS')\n",
    "\n",
    "    #日付\n",
    "    yyyymmdd = f\"{data['観測時刻(年)'][0]}{data.loc[0,['観測時刻(月)','観測時刻(日)']].apply(lambda x: str(x).zfill(2)).sum()}\"\n",
    "    #ファイル名\n",
    "    \n",
    "    filename = f\"./data-maxtemp/daily-data/jma-maxtemp-{yyyymmdd}.csv\"\n",
    "    #dataにも記載\n",
    "    data['date'] = pd.to_datetime(yyyymmdd, format='%Y%m%d')\n",
    "    #csvで出力\n",
    "    daily_data.to_csv(filename, index=False)\n",
    "    return data\n",
    "\n",
    "#実行\n",
    "#集計（真夏・猛暑日を数える）\n",
    "data_agg = pd.DataFrame()\n",
    "\n",
    "###データ取得\n",
    "for d in range(1, 8): \n",
    "    data = get_previous_data(d)\n",
    "    ##ととのえる\n",
    "    ##最高気温のデータのカラムを抽出\n",
    "    ##（1日前＝昨日の~、2日前=一昨日の~、3日以上前=xx日の最高気温(℃)\n",
    "    rename_dic = {col:'maxtemp' for col in data.columns if '日の最高気温(℃)' in col}\n",
    "    data = data.rename(columns=rename_dic)\n",
    "    ##統合\n",
    "    data_agg = pd.concat([data_agg, data])\n",
    "\n",
    "###計算\n",
    "data_agg['over15'] = data_agg.maxtemp >= 15\n",
    "data_agg['over20'] = data_agg.maxtemp >= 20\n",
    "data_agg['over25'] = data_agg.maxtemp >= 25\n",
    "data_agg['over30'] = data_agg.maxtemp >= 30\n",
    "data_agg['over35'] = data_agg.maxtemp >= 35\n",
    "data_agg['over40'] = data_agg.maxtemp >= 40\n",
    "data_agg['over45'] = data_agg.maxtemp >= 45\n",
    "data_agg['over50'] = data_agg.maxtemp >= 50\n",
    "data_agg['total'] = 1\n",
    "data_agg['null_values'] = data_agg.maxtemp.isna()\n",
    "\n",
    "#集計dfを出力\n",
    "heat_points = data_agg.groupby(['date'])[['over15','over20','over25','over30','over35','over40','over45','over50','total','null_values']].sum()\n",
    "filename = f\"./data-maxtemp/timeseries-data/jma-maxtemp-heatpoints-ts.csv\"\n",
    "heat_points.to_csv(filename, index=True)"
   ]
  },
  {
   "cell_type": "code",
   "execution_count": 129,
   "id": "00f42e5d",
   "metadata": {},
   "outputs": [],
   "source": []
  }
 ],
 "metadata": {
  "kernelspec": {
   "display_name": "python3.11.3",
   "language": "python",
   "name": "python3.11.3"
  },
  "language_info": {
   "codemirror_mode": {
    "name": "ipython",
    "version": 3
   },
   "file_extension": ".py",
   "mimetype": "text/x-python",
   "name": "python",
   "nbconvert_exporter": "python",
   "pygments_lexer": "ipython3",
   "version": "3.11.3"
  },
  "toc": {
   "base_numbering": 1,
   "nav_menu": {},
   "number_sections": true,
   "sideBar": true,
   "skip_h1_title": false,
   "title_cell": "Table of Contents",
   "title_sidebar": "Contents",
   "toc_cell": false,
   "toc_position": {},
   "toc_section_display": true,
   "toc_window_display": true
  }
 },
 "nbformat": 4,
 "nbformat_minor": 5
}

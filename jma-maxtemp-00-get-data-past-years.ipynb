{
 "cells": [
  {
   "cell_type": "code",
   "execution_count": null,
   "id": "a6eddeb0",
   "metadata": {},
   "outputs": [],
   "source": []
  },
  {
   "cell_type": "code",
   "execution_count": null,
   "id": "223992bd",
   "metadata": {},
   "outputs": [],
   "source": [
    "df['date'] = df[['観測時刻(年)','観測時刻(月)','観測時刻(日)']].apply(\n",
    "    lambda row: '-'.join(row.map(lambda x: str(x).zfill(2))), axis=1\n",
    ")\n",
    "df['date'] = pd.to_datetime(df['date'], format='%Y-%m-%d')"
   ]
  },
  {
   "cell_type": "code",
   "execution_count": null,
   "id": "6b899a2c",
   "metadata": {},
   "outputs": [],
   "source": [
    "df['heat_ex'] = df.maxtemp.astype(float)>=35\n",
    "df['heat'] = df.maxtemp.astype(float)>=30\n",
    "\n",
    "df['heat_ex_prev1'] = df.maxtemp_prev1.astype(float)>=35\n",
    "df['heat_prev1'] = df.maxtemp_prev1.astype(float)>=30\n",
    "\n",
    "df['heat_ex_prev2'] = df.maxtemp_prev2.astype(float)>=35\n",
    "df['heat_prev2'] = df.maxtemp_prev2.astype(float)>=30"
   ]
  },
  {
   "cell_type": "code",
   "execution_count": null,
   "id": "8d637eb9",
   "metadata": {},
   "outputs": [],
   "source": [
    "df.groupby('date')[['heat_ex','heat','heat_ex_prev1','heat_prev1','heat_ex_prev2','heat_prev2']].sum()"
   ]
  },
  {
   "cell_type": "code",
   "execution_count": null,
   "id": "029e3b56",
   "metadata": {},
   "outputs": [],
   "source": [
    "#最新データの取得\n",
    "#日付が変わると対象日も変わる\n",
    "url = 'https://www.data.jma.go.jp/stats/data/mdrr/tem_rct/alltable/mxtemsadext00_rct.csv'\n",
    "data = pd.read_csv(url, encoding='Shift-JIS')"
   ]
  },
  {
   "cell_type": "code",
   "execution_count": null,
   "id": "43d461a9",
   "metadata": {},
   "outputs": [],
   "source": [
    "#前年を取得\n",
    "\n",
    "url = 'https://www.data.jma.go.jp/obd/stats/etrn/view/temp/2022_hp.csv'\n",
    "heatpoint_2022 = pd.read_csv(url, encoding='shift_jis')"
   ]
  },
  {
   "cell_type": "code",
   "execution_count": null,
   "id": "7f723e4c",
   "metadata": {},
   "outputs": [],
   "source": [
    "#column名をきれいにする\n",
    "rename_dict = {col: '真夏日' if '真夏日' in col else ('猛暑日' if '猛暑日' in col else col) for col in heatpoint_2022.columns}\n",
    "rename_dict.update({'年月日':'date'})\n",
    "heatpoint_2022 = heatpoint_2022.rename(columns=rename_dict)\n",
    "#日付変換\n",
    "heatpoint_2022.date = pd.to_datetime(heatpoint_2022.date)"
   ]
  },
  {
   "cell_type": "code",
   "execution_count": null,
   "id": "26dba702",
   "metadata": {},
   "outputs": [],
   "source": []
  },
  {
   "cell_type": "code",
   "execution_count": null,
   "id": "919f3b06",
   "metadata": {},
   "outputs": [],
   "source": []
  },
  {
   "cell_type": "code",
   "execution_count": null,
   "id": "799959fd",
   "metadata": {},
   "outputs": [],
   "source": []
  },
  {
   "cell_type": "code",
   "execution_count": null,
   "id": "951b4c8d",
   "metadata": {},
   "outputs": [],
   "source": []
  },
  {
   "cell_type": "code",
   "execution_count": null,
   "id": "b134a309",
   "metadata": {},
   "outputs": [],
   "source": []
  },
  {
   "cell_type": "code",
   "execution_count": null,
   "id": "f6999cde",
   "metadata": {},
   "outputs": [],
   "source": []
  },
  {
   "cell_type": "code",
   "execution_count": 159,
   "id": "ffb223a3",
   "metadata": {},
   "outputs": [],
   "source": []
  },
  {
   "cell_type": "code",
   "execution_count": null,
   "id": "483f2827",
   "metadata": {},
   "outputs": [],
   "source": []
  }
 ],
 "metadata": {
  "kernelspec": {
   "display_name": "python3.11.3",
   "language": "python",
   "name": "python3.11.3"
  },
  "language_info": {
   "codemirror_mode": {
    "name": "ipython",
    "version": 3
   },
   "file_extension": ".py",
   "mimetype": "text/x-python",
   "name": "python",
   "nbconvert_exporter": "python",
   "pygments_lexer": "ipython3",
   "version": "3.11.3"
  },
  "toc": {
   "base_numbering": 1,
   "nav_menu": {},
   "number_sections": true,
   "sideBar": true,
   "skip_h1_title": false,
   "title_cell": "Table of Contents",
   "title_sidebar": "Contents",
   "toc_cell": false,
   "toc_position": {},
   "toc_section_display": true,
   "toc_window_display": true
  }
 },
 "nbformat": 4,
 "nbformat_minor": 5
}

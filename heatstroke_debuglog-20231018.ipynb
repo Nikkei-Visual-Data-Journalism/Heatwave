{
 "cells": [
  {
   "cell_type": "markdown",
   "id": "6cef8cdf",
   "metadata": {},
   "source": [
    "* heatstroke（救急搬送患者数）の表のスクレイピングができていない週があったため修正\n",
    "* 元のコードを修正→こちらのコードでいったん記録済みjsonから抜いて回しなおした"
   ]
  },
  {
   "cell_type": "code",
   "execution_count": 1,
   "id": "aa395b6d",
   "metadata": {},
   "outputs": [],
   "source": [
    "#熱中症の救急搬送患者数（総務省）\n",
    "#旧hot_weather\n",
    "#（他のコードもすべて猛暑関連で後から認識しにくいので変更）\n",
    "#ソース：消防庁\n",
    "#毎週火曜（夕方？）に週次データをPDFで発表\n",
    "#https://www.fdma.go.jp/disaster/heatstroke/post3.html\n",
    "\n",
    "import pandas as pd\n",
    "from datetime import datetime, date, timedelta\n",
    "import tabula\n",
    "import requests\n",
    "from bs4 import BeautifulSoup\n",
    "import re\n",
    "import json"
   ]
  },
  {
   "cell_type": "code",
   "execution_count": 2,
   "id": "b006fca8",
   "metadata": {},
   "outputs": [],
   "source": [
    "#1) 週次のPDFファイルのURLを取得する\n",
    "##ポータルの中身をみる\n",
    "url = 'https://www.fdma.go.jp/disaster/heatstroke/post3.html'\n",
    "r = requests.get(url)\n",
    "text = r.text\n",
    "soup = BeautifulSoup(text, features=\"lxml\")\n",
    "##pdfのURLをいったん全部リストに入れる\n",
    "pattern = re.compile(r'.*heatstroke_sokuhouti.*\\.pdf')\n",
    "href_list = [a['href'] for a in soup.select('div > a[href]') if pattern.match(a['href'])]"
   ]
  },
  {
   "cell_type": "code",
   "execution_count": 3,
   "id": "83392d68",
   "metadata": {},
   "outputs": [
    {
     "data": {
      "text/plain": [
       "['/disaster/heatstroke/items/r5/heatstroke_sokuhouti_20230925.pdf',\n",
       " '/disaster/heatstroke/items/r5/heatstroke_sokuhouti_20230925.pdf',\n",
       " '/disaster/heatstroke/items/r5/heatstroke_sokuhouti_20230918.pdf',\n",
       " '/disaster/heatstroke/items/r5/heatstroke_sokuhouti_20230911.pdf',\n",
       " '/disaster/heatstroke/items/r5/heatstroke_sokuhouti_20230904.pdf',\n",
       " '/disaster/heatstroke/items/r5/heatstroke_sokuhouti_20230828.pdf',\n",
       " '/disaster/heatstroke/items/r5/heatstroke_sokuhouti_20230821.pdf',\n",
       " '/disaster/heatstroke/items/r5/heatstroke_sokuhouti_20230814.pdf',\n",
       " '/disaster/heatstroke/items/r5/heatstroke_sokuhouti_20230807-2.pdf',\n",
       " '/disaster/heatstroke/items/r5/heatstroke_sokuhouti_20230731.pdf',\n",
       " '/disaster/heatstroke/items/r5/heatstroke_sokuhouti_20230724.pdf',\n",
       " '/disaster/heatstroke/items/r5/heatstroke_sokuhouti_20230717.pdf',\n",
       " '/disaster/heatstroke/items/r5/heatstroke_sokuhouti_20230710.pdf',\n",
       " '/disaster/heatstroke/items/r5/heatstroke_sokuhouti_20230703.pdf',\n",
       " '/disaster/heatstroke/items/r5/heatstroke_sokuhouti_20230626.pdf',\n",
       " '/disaster/heatstroke/items/r5/heatstroke_sokuhouti_20230619.pdf',\n",
       " '/disaster/heatstroke/items/r5/heatstroke_sokuhouti_20230612.pdf',\n",
       " '/disaster/heatstroke/items/r5/heatstroke_sokuhouti_20230605.pdf',\n",
       " '/disaster/heatstroke/items/r5/heatstroke_sokuhouti_20230529.pdf',\n",
       " '/disaster/heatstroke/items/r5/heatstroke_sokuhouti_20230522.pdf',\n",
       " '/disaster/heatstroke/items/r5/heatstroke_sokuhouti_20230515.pdf',\n",
       " '/disaster/heatstroke/items/r5/heatstroke_sokuhouti_20230508.pdf',\n",
       " '/disaster/heatstroke/items/r5/heatstroke_sokuhouti_20230501.pdf']"
      ]
     },
     "execution_count": 3,
     "metadata": {},
     "output_type": "execute_result"
    }
   ],
   "source": [
    "href_list"
   ]
  },
  {
   "cell_type": "code",
   "execution_count": 4,
   "id": "c48fe6c0",
   "metadata": {},
   "outputs": [],
   "source": [
    "###毎回全部のURLをループするのは時間／安定性の面でよくないので\n",
    "###過去分は蓄積しておき、新規分のみデータを取って積み上げる\n",
    "#3) 前回までのデータ\n",
    "filepath = './data/heatstroke.csv'\n",
    "heatstroke = pd.read_csv(filepath, parse_dates=['date'])"
   ]
  },
  {
   "cell_type": "code",
   "execution_count": 5,
   "id": "dcacf12c",
   "metadata": {},
   "outputs": [
    {
     "data": {
      "text/html": [
       "<div>\n",
       "<style scoped>\n",
       "    .dataframe tbody tr th:only-of-type {\n",
       "        vertical-align: middle;\n",
       "    }\n",
       "\n",
       "    .dataframe tbody tr th {\n",
       "        vertical-align: top;\n",
       "    }\n",
       "\n",
       "    .dataframe thead th {\n",
       "        text-align: right;\n",
       "    }\n",
       "</style>\n",
       "<table border=\"1\" class=\"dataframe\">\n",
       "  <thead>\n",
       "    <tr style=\"text-align: right;\">\n",
       "      <th></th>\n",
       "      <th>date</th>\n",
       "      <th>熱中症患者数</th>\n",
       "    </tr>\n",
       "  </thead>\n",
       "  <tbody>\n",
       "    <tr>\n",
       "      <th>0</th>\n",
       "      <td>2023-05-01</td>\n",
       "      <td>46.0</td>\n",
       "    </tr>\n",
       "    <tr>\n",
       "      <th>1</th>\n",
       "      <td>2023-05-02</td>\n",
       "      <td>38.0</td>\n",
       "    </tr>\n",
       "    <tr>\n",
       "      <th>2</th>\n",
       "      <td>2023-05-03</td>\n",
       "      <td>94.0</td>\n",
       "    </tr>\n",
       "    <tr>\n",
       "      <th>3</th>\n",
       "      <td>2023-05-04</td>\n",
       "      <td>143.0</td>\n",
       "    </tr>\n",
       "    <tr>\n",
       "      <th>4</th>\n",
       "      <td>2023-05-05</td>\n",
       "      <td>117.0</td>\n",
       "    </tr>\n",
       "  </tbody>\n",
       "</table>\n",
       "</div>"
      ],
      "text/plain": [
       "        date  熱中症患者数\n",
       "0 2023-05-01    46.0\n",
       "1 2023-05-02    38.0\n",
       "2 2023-05-03    94.0\n",
       "3 2023-05-04   143.0\n",
       "4 2023-05-05   117.0"
      ]
     },
     "execution_count": 5,
     "metadata": {},
     "output_type": "execute_result"
    }
   ],
   "source": [
    "heatstroke.head()"
   ]
  },
  {
   "cell_type": "code",
   "execution_count": 6,
   "id": "5acbba0f",
   "metadata": {},
   "outputs": [
    {
     "data": {
      "text/plain": [
       "set()"
      ]
     },
     "execution_count": 6,
     "metadata": {},
     "output_type": "execute_result"
    }
   ],
   "source": [
    "#日付ごと欠損\n",
    "set(pd.date_range(heatstroke.date.min(), heatstroke.date.max())) - set(heatstroke.date)"
   ]
  },
  {
   "cell_type": "code",
   "execution_count": 7,
   "id": "e751cbae",
   "metadata": {},
   "outputs": [],
   "source": [
    "#日付のみでデータのない日\n",
    "null_dates = heatstroke[heatstroke['熱中症患者数'].isna()]"
   ]
  },
  {
   "cell_type": "code",
   "execution_count": 8,
   "id": "e84908ea",
   "metadata": {},
   "outputs": [],
   "source": [
    "null_dates = null_dates.date.dt.strftime('%Y%m%d').to_list()"
   ]
  },
  {
   "cell_type": "code",
   "execution_count": 9,
   "id": "fbfde7b5",
   "metadata": {},
   "outputs": [
    {
     "data": {
      "text/plain": [
       "['20230821',\n",
       " '20230822',\n",
       " '20230823',\n",
       " '20230824',\n",
       " '20230825',\n",
       " '20230826',\n",
       " '20230827',\n",
       " '20230904',\n",
       " '20230905',\n",
       " '20230906',\n",
       " '20230907',\n",
       " '20230908',\n",
       " '20230909',\n",
       " '20230910',\n",
       " '20230911',\n",
       " '20230912',\n",
       " '20230913',\n",
       " '20230914',\n",
       " '20230915',\n",
       " '20230916',\n",
       " '20230917',\n",
       " '20230918',\n",
       " '20230919',\n",
       " '20230920',\n",
       " '20230921',\n",
       " '20230922',\n",
       " '20230923',\n",
       " '20230924']"
      ]
     },
     "execution_count": 9,
     "metadata": {},
     "output_type": "execute_result"
    }
   ],
   "source": [
    "null_dates"
   ]
  },
  {
   "cell_type": "code",
   "execution_count": 10,
   "id": "2b3fa5e8",
   "metadata": {},
   "outputs": [],
   "source": [
    "#データ取得ができなかったURL\n",
    "href_null = [h for h in href_list if any(null_date in h for null_date in null_dates)]"
   ]
  },
  {
   "cell_type": "code",
   "execution_count": 11,
   "id": "9035a2b0",
   "metadata": {},
   "outputs": [
    {
     "data": {
      "text/plain": [
       "['/disaster/heatstroke/items/r5/heatstroke_sokuhouti_20230918.pdf',\n",
       " '/disaster/heatstroke/items/r5/heatstroke_sokuhouti_20230911.pdf',\n",
       " '/disaster/heatstroke/items/r5/heatstroke_sokuhouti_20230904.pdf',\n",
       " '/disaster/heatstroke/items/r5/heatstroke_sokuhouti_20230821.pdf']"
      ]
     },
     "execution_count": 11,
     "metadata": {},
     "output_type": "execute_result"
    }
   ],
   "source": [
    "href_null"
   ]
  },
  {
   "cell_type": "markdown",
   "id": "ffff2175",
   "metadata": {},
   "source": [
    "jsonを書き換え"
   ]
  },
  {
   "cell_type": "code",
   "execution_count": 12,
   "id": "25f0d940",
   "metadata": {},
   "outputs": [],
   "source": [
    "#前回までに取得済みと記録されているURL\n",
    "with open('./data/heatstroke-pdf-list.json', 'r') as file:\n",
    "    href_list_prev  = json.load(file)"
   ]
  },
  {
   "cell_type": "code",
   "execution_count": 13,
   "id": "4459dde0",
   "metadata": {},
   "outputs": [],
   "source": [
    "href_list = list(set(h for h in href_list_prev if h not in href_null))"
   ]
  },
  {
   "cell_type": "code",
   "execution_count": 14,
   "id": "6f0b097f",
   "metadata": {},
   "outputs": [],
   "source": [
    "with open('./data/heatstroke-pdf-list.json', 'w') as f:\n",
    "    json.dump(href_list, f)"
   ]
  }
 ],
 "metadata": {
  "kernelspec": {
   "display_name": "python3.11.3",
   "language": "python",
   "name": "python3.11.3"
  },
  "language_info": {
   "codemirror_mode": {
    "name": "ipython",
    "version": 3
   },
   "file_extension": ".py",
   "mimetype": "text/x-python",
   "name": "python",
   "nbconvert_exporter": "python",
   "pygments_lexer": "ipython3",
   "version": "3.11.3"
  },
  "toc": {
   "base_numbering": 1,
   "nav_menu": {},
   "number_sections": true,
   "sideBar": true,
   "skip_h1_title": false,
   "title_cell": "Table of Contents",
   "title_sidebar": "Contents",
   "toc_cell": false,
   "toc_position": {},
   "toc_section_display": true,
   "toc_window_display": true
  }
 },
 "nbformat": 4,
 "nbformat_minor": 5
}
